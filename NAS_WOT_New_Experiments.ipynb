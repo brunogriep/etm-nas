{
  "cells": [
    {
      "cell_type": "markdown",
      "metadata": {
        "id": "view-in-github",
        "colab_type": "text"
      },
      "source": [
        "<a href=\"https://colab.research.google.com/github/brunogriep/etm-nas/blob/main/NAS_WOT_New_Experiments.ipynb\" target=\"_parent\"><img src=\"https://colab.research.google.com/assets/colab-badge.svg\" alt=\"Open In Colab\"/></a>"
      ]
    },
    {
      "cell_type": "code",
      "execution_count": null,
      "metadata": {
        "colab": {
          "base_uri": "https://localhost:8080/"
        },
        "id": "66YSxndo260o",
        "outputId": "86b139b2-957d-4d48-d780-90269b0d9df2"
      },
      "outputs": [
        {
          "output_type": "stream",
          "name": "stdout",
          "text": [
            "Drive already mounted at /content/drive; to attempt to forcibly remount, call drive.mount(\"/content/drive\", force_remount=True).\n"
          ]
        }
      ],
      "source": [
        "# create at 07/03/2022\n",
        "from google.colab import drive\n",
        "drive.mount('/content/drive')"
      ]
    },
    {
      "cell_type": "markdown",
      "metadata": {
        "id": "oAZC5rH7JPxh"
      },
      "source": [
        "### 📓 Computer Specs"
      ]
    },
    {
      "cell_type": "code",
      "execution_count": null,
      "metadata": {
        "colab": {
          "base_uri": "https://localhost:8080/"
        },
        "id": "VVQlw4xXJMKw",
        "outputId": "3b25b3a7-6e06-4fe3-e4cc-b41fe8eb99e1"
      },
      "outputs": [
        {
          "output_type": "stream",
          "name": "stdout",
          "text": [
            "Filesystem      Size  Used Avail Use% Mounted on\n",
            "overlay         167G   39G  129G  23% /\n",
            "tmpfs            64M     0   64M   0% /dev\n",
            "shm              13G     0   13G   0% /dev/shm\n",
            "/dev/root       2.0G  1.2G  812M  59% /sbin/docker-init\n",
            "tmpfs            13G   40K   13G   1% /var/colab\n",
            "/dev/sda1       174G   42G  132G  24% /opt/bin/.nvidia\n",
            "tmpfs            13G     0   13G   0% /proc/acpi\n",
            "tmpfs            13G     0   13G   0% /proc/scsi\n",
            "tmpfs            13G     0   13G   0% /sys/firmware\n",
            "drive            15G  6.2G  8.9G  41% /content/drive\n"
          ]
        }
      ],
      "source": [
        "!df -h"
      ]
    },
    {
      "cell_type": "code",
      "execution_count": null,
      "metadata": {
        "colab": {
          "base_uri": "https://localhost:8080/"
        },
        "id": "fJRJxdduJPNS",
        "outputId": "2f3e8344-2eb5-41a5-bd2f-eccbbe50104f"
      },
      "outputs": [
        {
          "output_type": "stream",
          "name": "stdout",
          "text": [
            "processor\t: 0\n",
            "vendor_id\t: GenuineIntel\n",
            "cpu family\t: 6\n",
            "model\t\t: 79\n",
            "model name\t: Intel(R) Xeon(R) CPU @ 2.20GHz\n",
            "stepping\t: 0\n",
            "microcode\t: 0x1\n",
            "cpu MHz\t\t: 2199.998\n",
            "cache size\t: 56320 KB\n",
            "physical id\t: 0\n",
            "siblings\t: 4\n",
            "core id\t\t: 0\n",
            "cpu cores\t: 2\n",
            "apicid\t\t: 0\n",
            "initial apicid\t: 0\n",
            "fpu\t\t: yes\n",
            "fpu_exception\t: yes\n",
            "cpuid level\t: 13\n",
            "wp\t\t: yes\n",
            "flags\t\t: fpu vme de pse tsc msr pae mce cx8 apic sep mtrr pge mca cmov pat pse36 clflush mmx fxsr sse sse2 ss ht syscall nx pdpe1gb rdtscp lm constant_tsc rep_good nopl xtopology nonstop_tsc cpuid tsc_known_freq pni pclmulqdq ssse3 fma cx16 pcid sse4_1 sse4_2 x2apic movbe popcnt aes xsave avx f16c rdrand hypervisor lahf_lm abm 3dnowprefetch invpcid_single ssbd ibrs ibpb stibp fsgsbase tsc_adjust bmi1 hle avx2 smep bmi2 erms invpcid rtm rdseed adx smap xsaveopt arat md_clear arch_capabilities\n",
            "bugs\t\t: cpu_meltdown spectre_v1 spectre_v2 spec_store_bypass l1tf mds swapgs taa\n",
            "bogomips\t: 4399.99\n",
            "clflush size\t: 64\n",
            "cache_alignment\t: 64\n",
            "address sizes\t: 46 bits physical, 48 bits virtual\n",
            "power management:\n",
            "\n",
            "processor\t: 1\n",
            "vendor_id\t: GenuineIntel\n",
            "cpu family\t: 6\n",
            "model\t\t: 79\n",
            "model name\t: Intel(R) Xeon(R) CPU @ 2.20GHz\n",
            "stepping\t: 0\n",
            "microcode\t: 0x1\n",
            "cpu MHz\t\t: 2199.998\n",
            "cache size\t: 56320 KB\n",
            "physical id\t: 0\n",
            "siblings\t: 4\n",
            "core id\t\t: 1\n",
            "cpu cores\t: 2\n",
            "apicid\t\t: 2\n",
            "initial apicid\t: 2\n",
            "fpu\t\t: yes\n",
            "fpu_exception\t: yes\n",
            "cpuid level\t: 13\n",
            "wp\t\t: yes\n",
            "flags\t\t: fpu vme de pse tsc msr pae mce cx8 apic sep mtrr pge mca cmov pat pse36 clflush mmx fxsr sse sse2 ss ht syscall nx pdpe1gb rdtscp lm constant_tsc rep_good nopl xtopology nonstop_tsc cpuid tsc_known_freq pni pclmulqdq ssse3 fma cx16 pcid sse4_1 sse4_2 x2apic movbe popcnt aes xsave avx f16c rdrand hypervisor lahf_lm abm 3dnowprefetch invpcid_single ssbd ibrs ibpb stibp fsgsbase tsc_adjust bmi1 hle avx2 smep bmi2 erms invpcid rtm rdseed adx smap xsaveopt arat md_clear arch_capabilities\n",
            "bugs\t\t: cpu_meltdown spectre_v1 spectre_v2 spec_store_bypass l1tf mds swapgs taa\n",
            "bogomips\t: 4399.99\n",
            "clflush size\t: 64\n",
            "cache_alignment\t: 64\n",
            "address sizes\t: 46 bits physical, 48 bits virtual\n",
            "power management:\n",
            "\n",
            "processor\t: 2\n",
            "vendor_id\t: GenuineIntel\n",
            "cpu family\t: 6\n",
            "model\t\t: 79\n",
            "model name\t: Intel(R) Xeon(R) CPU @ 2.20GHz\n",
            "stepping\t: 0\n",
            "microcode\t: 0x1\n",
            "cpu MHz\t\t: 2199.998\n",
            "cache size\t: 56320 KB\n",
            "physical id\t: 0\n",
            "siblings\t: 4\n",
            "core id\t\t: 0\n",
            "cpu cores\t: 2\n",
            "apicid\t\t: 1\n",
            "initial apicid\t: 1\n",
            "fpu\t\t: yes\n",
            "fpu_exception\t: yes\n",
            "cpuid level\t: 13\n",
            "wp\t\t: yes\n",
            "flags\t\t: fpu vme de pse tsc msr pae mce cx8 apic sep mtrr pge mca cmov pat pse36 clflush mmx fxsr sse sse2 ss ht syscall nx pdpe1gb rdtscp lm constant_tsc rep_good nopl xtopology nonstop_tsc cpuid tsc_known_freq pni pclmulqdq ssse3 fma cx16 pcid sse4_1 sse4_2 x2apic movbe popcnt aes xsave avx f16c rdrand hypervisor lahf_lm abm 3dnowprefetch invpcid_single ssbd ibrs ibpb stibp fsgsbase tsc_adjust bmi1 hle avx2 smep bmi2 erms invpcid rtm rdseed adx smap xsaveopt arat md_clear arch_capabilities\n",
            "bugs\t\t: cpu_meltdown spectre_v1 spectre_v2 spec_store_bypass l1tf mds swapgs taa\n",
            "bogomips\t: 4399.99\n",
            "clflush size\t: 64\n",
            "cache_alignment\t: 64\n",
            "address sizes\t: 46 bits physical, 48 bits virtual\n",
            "power management:\n",
            "\n",
            "processor\t: 3\n",
            "vendor_id\t: GenuineIntel\n",
            "cpu family\t: 6\n",
            "model\t\t: 79\n",
            "model name\t: Intel(R) Xeon(R) CPU @ 2.20GHz\n",
            "stepping\t: 0\n",
            "microcode\t: 0x1\n",
            "cpu MHz\t\t: 2199.998\n",
            "cache size\t: 56320 KB\n",
            "physical id\t: 0\n",
            "siblings\t: 4\n",
            "core id\t\t: 1\n",
            "cpu cores\t: 2\n",
            "apicid\t\t: 3\n",
            "initial apicid\t: 3\n",
            "fpu\t\t: yes\n",
            "fpu_exception\t: yes\n",
            "cpuid level\t: 13\n",
            "wp\t\t: yes\n",
            "flags\t\t: fpu vme de pse tsc msr pae mce cx8 apic sep mtrr pge mca cmov pat pse36 clflush mmx fxsr sse sse2 ss ht syscall nx pdpe1gb rdtscp lm constant_tsc rep_good nopl xtopology nonstop_tsc cpuid tsc_known_freq pni pclmulqdq ssse3 fma cx16 pcid sse4_1 sse4_2 x2apic movbe popcnt aes xsave avx f16c rdrand hypervisor lahf_lm abm 3dnowprefetch invpcid_single ssbd ibrs ibpb stibp fsgsbase tsc_adjust bmi1 hle avx2 smep bmi2 erms invpcid rtm rdseed adx smap xsaveopt arat md_clear arch_capabilities\n",
            "bugs\t\t: cpu_meltdown spectre_v1 spectre_v2 spec_store_bypass l1tf mds swapgs taa\n",
            "bogomips\t: 4399.99\n",
            "clflush size\t: 64\n",
            "cache_alignment\t: 64\n",
            "address sizes\t: 46 bits physical, 48 bits virtual\n",
            "power management:\n",
            "\n"
          ]
        }
      ],
      "source": [
        "!cat /proc/cpuinfo"
      ]
    },
    {
      "cell_type": "code",
      "execution_count": null,
      "metadata": {
        "colab": {
          "base_uri": "https://localhost:8080/"
        },
        "id": "ZaxqJ61VJUIl",
        "outputId": "31b79df7-de21-4965-ab52-9dcc1ff0fba6"
      },
      "outputs": [
        {
          "output_type": "stream",
          "name": "stdout",
          "text": [
            "MemTotal:       26692024 kB\n",
            "MemFree:        23351052 kB\n",
            "MemAvailable:   25290256 kB\n",
            "Buffers:          139932 kB\n",
            "Cached:          1985832 kB\n",
            "SwapCached:            0 kB\n",
            "Active:          1427660 kB\n",
            "Inactive:        1614128 kB\n",
            "Active(anon):     827644 kB\n",
            "Inactive(anon):      508 kB\n",
            "Active(file):     600016 kB\n",
            "Inactive(file):  1613620 kB\n",
            "Unevictable:           0 kB\n",
            "Mlocked:               0 kB\n",
            "SwapTotal:             0 kB\n",
            "SwapFree:              0 kB\n",
            "Dirty:               500 kB\n",
            "Writeback:             0 kB\n",
            "AnonPages:        916432 kB\n",
            "Mapped:           268480 kB\n",
            "Shmem:              1216 kB\n",
            "KReclaimable:      97488 kB\n",
            "Slab:             167560 kB\n",
            "SReclaimable:      97488 kB\n",
            "SUnreclaim:        70072 kB\n",
            "KernelStack:        6800 kB\n",
            "PageTables:        13268 kB\n",
            "NFS_Unstable:          0 kB\n",
            "Bounce:                0 kB\n",
            "WritebackTmp:          0 kB\n",
            "CommitLimit:    13346012 kB\n",
            "Committed_AS:    3837812 kB\n",
            "VmallocTotal:   34359738367 kB\n",
            "VmallocUsed:       47608 kB\n",
            "VmallocChunk:          0 kB\n",
            "Percpu:             3056 kB\n",
            "AnonHugePages:      2048 kB\n",
            "ShmemHugePages:        0 kB\n",
            "ShmemPmdMapped:        0 kB\n",
            "FileHugePages:         0 kB\n",
            "FilePmdMapped:         0 kB\n",
            "CmaTotal:              0 kB\n",
            "CmaFree:               0 kB\n",
            "HugePages_Total:       0\n",
            "HugePages_Free:        0\n",
            "HugePages_Rsvd:        0\n",
            "HugePages_Surp:        0\n",
            "Hugepagesize:       2048 kB\n",
            "Hugetlb:               0 kB\n",
            "DirectMap4k:      174912 kB\n",
            "DirectMap2M:     5064704 kB\n",
            "DirectMap1G:    24117248 kB\n"
          ]
        }
      ],
      "source": [
        "!cat /proc/meminfo"
      ]
    },
    {
      "cell_type": "code",
      "execution_count": null,
      "metadata": {
        "colab": {
          "base_uri": "https://localhost:8080/"
        },
        "id": "tLPCAUSLJcrn",
        "outputId": "514c4b52-eb11-42a9-a266-cce2e80226ac"
      },
      "outputs": [
        {
          "output_type": "stream",
          "name": "stdout",
          "text": [
            "GPU 0: Tesla P100-PCIE-16GB (UUID: GPU-5b047ba2-914e-3ab2-74b0-593a279acd7e)\n"
          ]
        }
      ],
      "source": [
        "!nvidia-smi -L"
      ]
    },
    {
      "cell_type": "code",
      "execution_count": null,
      "metadata": {
        "colab": {
          "base_uri": "https://localhost:8080/"
        },
        "id": "Pna75JxaJySZ",
        "outputId": "5f416c51-e2e3-413c-97fa-a297ef76b5ef"
      },
      "outputs": [
        {
          "output_type": "stream",
          "name": "stdout",
          "text": [
            "Model name:          Intel(R) Xeon(R) CPU @ 2.20GHz\n"
          ]
        }
      ],
      "source": [
        "!lscpu |grep 'Model name'"
      ]
    },
    {
      "cell_type": "markdown",
      "metadata": {
        "id": "al_nfDRZ3Ih8"
      },
      "source": [
        "### 📥 Installs "
      ]
    },
    {
      "cell_type": "code",
      "execution_count": null,
      "metadata": {
        "id": "kAejGa2m3DCS"
      },
      "outputs": [],
      "source": [
        "%%capture\n",
        "'''\n",
        "installs nasbench-101 \n",
        "for more info see --> https://colab.research.google.com/github/google-research/nasbench/blob/master/NASBench.ipynb#scrollTo=oFhFRmck7NzM\n",
        "'''\n",
        "!curl -O https://storage.googleapis.com/nasbench/nasbench_only108.tfrecord\n",
        "# !curl -O https://storage.googleapis.com/nasbench/nasbench_full.tfrecord\n",
        "!git clone https://github.com/google-research/nasbench\n",
        "!pip install ./nasbench\n",
        "\n",
        "\n",
        "'''\n",
        "wandb for metric tracking \n",
        "'''\n",
        "!pip install wandb\n",
        "\n",
        "'''\n",
        "xautodl for capture neural network informations \n",
        "'''\n",
        "!pip install xautodl\n",
        "\n",
        "!pip install nats-bench\n",
        "!pip install pyyaml==5.4.1\n",
        "!pip install simplejson"
      ]
    },
    {
      "cell_type": "markdown",
      "metadata": {
        "id": "qausdXco6yIk"
      },
      "source": [
        "### 💿 Repository"
      ]
    },
    {
      "cell_type": "code",
      "execution_count": null,
      "metadata": {
        "id": "K0u-R4CY6Y8b"
      },
      "outputs": [],
      "source": [
        "%tensorflow_version 1.x"
      ]
    },
    {
      "cell_type": "code",
      "execution_count": null,
      "metadata": {
        "colab": {
          "base_uri": "https://localhost:8080/"
        },
        "id": "O4E8fZR768lG",
        "outputId": "273fef84-4429-4bf2-c232-e33f17a73ace"
      },
      "outputs": [
        {
          "output_type": "stream",
          "name": "stdout",
          "text": [
            "Cloning into 'nas-wot'...\n",
            "Receiving objects: 100% (352/352), 931.17 KiB | 4.08 MiB/s, done.\n",
            "Resolving deltas: 100% (168/168), done.\n"
          ]
        }
      ],
      "source": [
        "!git clone https://brunogriep@bitbucket.org/brunogriep/nas-wot.git"
      ]
    },
    {
      "cell_type": "code",
      "execution_count": null,
      "metadata": {
        "colab": {
          "base_uri": "https://localhost:8080/"
        },
        "id": "78ApsayM8MuR",
        "outputId": "926856a0-a8d0-44fa-a22a-3c7b9c8883fd"
      },
      "outputs": [
        {
          "output_type": "stream",
          "name": "stdout",
          "text": [
            "/content/nas-wot\n"
          ]
        }
      ],
      "source": [
        "%cd /content/nas-wot"
      ]
    },
    {
      "cell_type": "markdown",
      "metadata": {
        "id": "gT7MdiSe4Erf"
      },
      "source": [
        "### 💾 The Data\n",
        "\n",
        "CIFAR-10, CIFAR-100 and ImageNet16-120 datasets are available in my personal google drive storage."
      ]
    },
    {
      "cell_type": "code",
      "execution_count": null,
      "metadata": {
        "id": "f2OIsQ184Rm1"
      },
      "outputs": [],
      "source": [
        "%%capture\n",
        "'''\n",
        "NATS-Bench for Topology and Size\n",
        "'''\n",
        "!tar xvf /content/drive/MyDrive/Mestrado/Codes/NATS-Bench/NATS-tss-v1_0-3ffb9-simple.tar -C /content/.\n",
        "!tar xvf /content/drive/MyDrive/Mestrado/Codes/NATS-Bench/NATS-sss-v1_0-50262-simple.tar -C /content/.\n",
        "\n",
        "'''\n",
        "CIFAR10, CIFAR100, ImageNet16 datasets\n",
        "'''\n",
        "!cp -a /content/drive/MyDrive/Mestrado/Codes/cifar.python/cifar-10-batches-py/. /content/nas-wot/datasets/cifar10\n",
        "!cp -a /content/drive/MyDrive/Mestrado/Codes/cifar.python/cifar-100-python/. /content/nas-wot/datasets/cifar100\n",
        "!cp -a /content/drive/MyDrive/Mestrado/Codes/cifar.python/ImageNet16/. /content/nas-wot/datasets/ImageNet16\n",
        "\n",
        "'''\n",
        "Facebook NDS\n",
        "'''\n",
        "# !wget https://dl.fbaipublicfiles.com/nds/data.zip\n",
        "# !unzip data.zip -d /content/nas-wot/"
      ]
    },
    {
      "cell_type": "markdown",
      "metadata": {
        "id": "Ar5mIiUh6kXZ"
      },
      "source": [
        "### ⚙ Imports "
      ]
    },
    {
      "cell_type": "code",
      "execution_count": null,
      "metadata": {
        "id": "ALvrwazc6ciP"
      },
      "outputs": [],
      "source": [
        "# imports \n",
        "import numpy as np\n",
        "from nasbench import api\n",
        "import random \n",
        "\n",
        "import torch\n",
        "import torchvision\n",
        "import torchvision.transforms as transforms"
      ]
    },
    {
      "cell_type": "code",
      "execution_count": null,
      "metadata": {
        "id": "byFobRwD-DDO"
      },
      "outputs": [],
      "source": [
        "import argparse\n",
        "import datasets\n",
        "import nasspace\n",
        "import os\n",
        "import pandas as pd\n",
        "import time\n",
        "from scores import get_score_func\n",
        "from scipy import stats\n",
        "from pycls.models.nas.nas import Cell\n",
        "from utils import add_dropout, init_network\n",
        "from tqdm import tqdm\n",
        "from tqdm import trange"
      ]
    },
    {
      "cell_type": "code",
      "execution_count": null,
      "metadata": {
        "id": "qsf3OZmyBImf"
      },
      "outputs": [],
      "source": [
        "# import wandb\n",
        "\n",
        "# wandb.login()\n",
        "# run = wandb.init(project=\"NASBench101-LogDet-vs-Trace-100\", reinit=True)"
      ]
    },
    {
      "cell_type": "markdown",
      "metadata": {
        "id": "VDElEjY9piF8"
      },
      "source": [
        "### ⛏ Arguments"
      ]
    },
    {
      "cell_type": "code",
      "execution_count": null,
      "metadata": {
        "id": "DCsIy9r2-nhh"
      },
      "outputs": [],
      "source": [
        "parser = argparse.ArgumentParser(description='NAS Without Training')\n",
        "parser.add_argument('--api_loc', default='/content/NATS-sss-v1_0-50262-simple/', type=str, help='path to API')\n",
        "parser.add_argument('--augtype', default='none', type=str, help='which perturbations to use')\n",
        "parser.add_argument('--batch_size', default=128, type=int)\n",
        "parser.add_argument('--data_loc', default='./datasets/cifar10',type=str,help='dataset folder')\n",
        "parser.add_argument('--dataset', default='cifar10', type=str)\n",
        "parser.add_argument('--dropout', action='store_true')\n",
        "parser.add_argument('--GPU', default='0', type=str)\n",
        "parser.add_argument('--init', default='', type=str)\n",
        "parser.add_argument('--maxofn', default=1, type=int, help='score is the max of this many evaluations of the network')\n",
        "parser.add_argument('--n_runs', default=100, type=int)\n",
        "parser.add_argument('--n_samples', default=1000, type=int)\n",
        "parser.add_argument('--nasspace', default='nasbench201',type=str,help='the nas search space to use')\n",
        "parser.add_argument('--num_iter', default=10, type=int)\n",
        "parser.add_argument('--num_labels', default=1,  type=int,help='#classes (nasbench101)')\n",
        "parser.add_argument('--num_modules_per_stack', default=3, type=int,help='#modules per stack (nasbench101)')\n",
        "parser.add_argument('--num_stacks', default=3,  type=int, help='#stacks of modules (nasbench101)')\n",
        "parser.add_argument('--repeat', default=1,type=int, help='how often to repeat a single image with a batch')\n",
        "parser.add_argument('--save_loc', default='results',type=str, help='folder to save results')\n",
        "parser.add_argument('--save_string', default='naswot', type=str, help='prefix of results file')\n",
        "parser.add_argument('--score_type', default='log/mean', type=str)\n",
        "parser.add_argument('--score', default='hook_trace', type=str, help='the score to evaluate')\n",
        "parser.add_argument('--seed', default=1, type=int)\n",
        "parser.add_argument('--sigma', default=0.05 ,type=float, help='noise level if augtype is \"gaussnoise\"')\n",
        "parser.add_argument('--stem_out_channels', default=16, type=int, help='output channels of stem convolution (nasbench101)')\n",
        "parser.add_argument('--trainval', action='store_true')\n",
        "\n",
        "args = parser.parse_args(args=[])\n",
        "os.environ['CUDA_VISIBLE_DEVICES'] = args.GPU\n",
        "\n",
        "# Reproducibility\n",
        "torch.backends.cudnn.deterministic = True\n",
        "torch.backends.cudnn.benchmark = False\n",
        "random.seed(args.seed)\n",
        "np.random.seed(args.seed)\n",
        "torch.manual_seed(args.seed)\n",
        "\n",
        "device = torch.device(\"cuda:0\" if torch.cuda.is_available() else \"cpu\")\n"
      ]
    },
    {
      "cell_type": "code",
      "execution_count": null,
      "metadata": {
        "id": "20azbe_w8p7H"
      },
      "outputs": [],
      "source": [
        "NUM_ITER = 1000\n",
        "CIFAR10_DATASET = 'cifar10'\n",
        "CIFAR100_DATASET = 'cifar100'\n",
        "IMAGENET_DATASET = 'ImageNet16-120'\n",
        "SAVE_LOC = '/content/drive/MyDrive/Mestrado/2022/march-experiments/'\n",
        "DATASET_LOC = './datasets/' + CIFAR10_DATASET\n",
        "\n",
        "# args.nasspace = 'nasbench101'\n",
        "# args.api_loc = '/content/nasbench_only108.tfrecord'"
      ]
    },
    {
      "cell_type": "markdown",
      "metadata": {
        "id": "A3UPFUFUpqpk"
      },
      "source": [
        "### 🍴 Hooks"
      ]
    },
    {
      "cell_type": "code",
      "execution_count": null,
      "metadata": {
        "id": "8b4ZgED4EVmM"
      },
      "outputs": [],
      "source": [
        "def counting_forward_hook(module, inp, out):\n",
        "  inp = inp[0].view(inp[0].size(0), -1)\n",
        "  x = (inp > 0).float() # binary indicator\n",
        "  K = x @ x.t() \n",
        "  K2 = (1.-x) @ (1.-x.t())\n",
        "  network.K = network.K + K.cpu().numpy() + K2.cpu().numpy() # hamming distance\n",
        "    \n",
        "def custom_counting_forward_hook(module, inp, out):\n",
        "  inp = inp[0].view(inp[0].size(0), -1)\n",
        "  x = (inp > 0).float() # binary indicator \n",
        "  network.K = network.K + x.shape[1]\n",
        "\n",
        "def optimized_forward_hook(module, inp, out):\n",
        "  inp = inp[0].view(inp[0].size(0), -1)\n",
        "  x = (inp > 0).float()\n",
        "  K = x @ x.t() \n",
        "  network.K = network.K + K.cpu().numpy()\n",
        "    \n",
        "def counting_backward_hook(module, inp, out):\n",
        "  module.visited_backwards = True\n",
        "\n",
        "# this is the logarithm of the determinant of K \n",
        "def hooklogdet(K, labels=None):\n",
        "  s, ld = np.linalg.slogdet(K)\n",
        "  return ld\n",
        "\n",
        "# this is the logarithm of the determinant of K \n",
        "def hookdet(K, labels=None):\n",
        "  ld = np.linalg.det(K)\n",
        "  return ld\n",
        "\n",
        "def hooktrace(K, labels=None):\n",
        "  tr = np.trace(K)\n",
        "  return tr\n",
        "\n",
        "def simplest_hooktrace(K, labels=None):\n",
        "  tr = np.shape(K)[0] * args.batch_size\n",
        "  return tr\n",
        "\n",
        "def eigenvalues(K):\n",
        "  ev, _ = np.linalg.eig(K)\n",
        "  return ev\n",
        "\n",
        "def condition_number(K):\n",
        "  ev, _ = np.linalg.eig(K)\n",
        "  ret = np.max(ev)/np.min(ev)\n",
        "  return ret"
      ]
    },
    {
      "cell_type": "markdown",
      "metadata": {
        "id": "cjy-QJYypzRo"
      },
      "source": [
        "### 💽 Load data"
      ]
    },
    {
      "cell_type": "code",
      "execution_count": null,
      "metadata": {
        "id": "IreVY2UYGVyn"
      },
      "outputs": [],
      "source": [
        "def load_data(args):\n",
        "  dataset = 'fake' if 'fake' in args.dataset else args.dataset\n",
        "  args.dataset = args.dataset.replace('fake', '')\n",
        "  if args.dataset == 'cifar10':\n",
        "    args.dataset = args.dataset + '-valid'\n",
        "\n",
        "  searchspace = nasspace.get_search_space(args)\n",
        "\n",
        "  if 'valid' in args.dataset:\n",
        "    args.dataset = args.dataset.replace('-valid', '')\n",
        "\n",
        "  train_loader = datasets.get_data(args.dataset, args.data_loc, args.trainval, args.batch_size, args.augtype, args.repeat, args)\n",
        "\n",
        "  if args.dataset == 'cifar10':\n",
        "    acc_type = 'ori-test'\n",
        "    val_acc_type = 'x-valid'\n",
        "  else:\n",
        "    acc_type = 'x-test'\n",
        "    val_acc_type = 'x-valid'\n",
        "\n",
        "  return searchspace, train_loader, acc_type, val_acc_type"
      ]
    },
    {
      "cell_type": "markdown",
      "metadata": {
        "id": "HEIx2d213wSo"
      },
      "source": [
        "### ♒ Graphical Output"
      ]
    },
    {
      "cell_type": "code",
      "execution_count": null,
      "metadata": {
        "id": "1ok311GxPRbO"
      },
      "outputs": [],
      "source": [
        "from scipy import stats\n",
        "from PIL import Image\n",
        "import matplotlib.pyplot as plt \n",
        "import matplotlib.patches as mpl_patches\n",
        "import plotly.express as px\n",
        "import plotly.graph_objects as go\n",
        "\n",
        "def plot_results(results, score):\n",
        "  slope, intercept, r_value, p_value, std_err = stats.linregress(results['accuracy'],results[score])\n",
        "\n",
        "  fig = px.scatter(results[[score, \"accuracy\"]], x=\"accuracy\", y=score, trendline=\"ols\", marginal_x=\"histogram\", marginal_y=\"histogram\", width=800, height=800)\n",
        "  fig.show()\n",
        "\n",
        "  print(\"y={0:.1f}x+{1:.1f}\".format(slope,intercept))\n",
        "  # print(\"Pearson correlation is {}\".format(stats.pearsonr(results['accuracy'], results_norm[score])[0]))\n",
        "\n",
        "def plot_go_result(results):\n",
        "  fig = go.Figure()\n",
        "  fig.add_trace(go.Scatter(x=results[\"accuracy\"],\n",
        "                          y=results[\"scores_logdet\"],\n",
        "                          mode='markers',\n",
        "                          name='logdet'\n",
        "                          ))\n",
        "  fig.add_trace(go.Scatter(x=results[\"accuracy\"], \n",
        "                           y=results[\"scores_trace\"],\n",
        "                           mode='markers',\n",
        "                           name='trace',\n",
        "                           ))\n",
        "  fig.show()\n",
        "\n",
        "  print(\"Trace Pearson correlation is {}\".format(stats.pearsonr(results[\"accuracy\"], results[\"scores_trace\"])[0]))\n",
        "  print(\"LogDet Pearson correlation is {}\".format(stats.pearsonr(results[\"accuracy\"], results[\"scores_logdet\"])[0]))"
      ]
    },
    {
      "cell_type": "markdown",
      "metadata": {
        "id": "G6HZHiUFZn87"
      },
      "source": [
        "# Score Networks"
      ]
    },
    {
      "cell_type": "markdown",
      "metadata": {
        "id": "jVp8yYCjK9sc"
      },
      "source": [
        "## CIFAR10"
      ]
    },
    {
      "cell_type": "markdown",
      "metadata": {
        "id": "cWtnwREGqA2U"
      },
      "source": [
        "### 🧑 Experiment"
      ]
    },
    {
      "cell_type": "code",
      "execution_count": null,
      "metadata": {
        "id": "M-yvxXp9swdG"
      },
      "outputs": [],
      "source": [
        "NUM_ITER = 100\n",
        "CIFAR10_DATASET = 'cifar10'\n",
        "CIFAR100_DATASET = 'cifar100'\n",
        "IMAGENET_DATASET = 'ImageNet16-120'\n",
        "# SAVE_LOC = '/content/drive/MyDrive/Mestrado/2022/march-experiments'\n",
        "# SAVE_LOC = '/content/drive/MyDrive/Mestrado/2022/april-experiments'\n",
        "SAVE_LOC = '/content/drive/MyDrive/Mestrado/2022/may-experiments'\n",
        "DATASET_LOC = './datasets/' + CIFAR10_DATASET"
      ]
    },
    {
      "cell_type": "code",
      "execution_count": null,
      "metadata": {
        "id": "gW56Kou_8mBv",
        "colab": {
          "base_uri": "https://localhost:8080/",
          "height": 101,
          "referenced_widgets": [
            "27f47036bf0a4316a11fd04084f239dd",
            "8bb3d5c8298f4a9989294539faabd290",
            "e4f4a4d657f64f44af5f1132fa3dbbeb",
            "7e566197cb2e4e50b511abba8172e225",
            "11ea237221c6440d99cb79cd0156fdde",
            "39cb9259a6544311b26dd735e6d1122f",
            "c69f7a75fa544159bfa6d1f4a9eda78a",
            "18f9a2afc4434103801d16b2ba309cdb",
            "b98b390619764b77b9314d4796ef1044",
            "2ce2d9d946bf496a80d8da7804f36b67",
            "cb410984498c46dbab742592d035ad5f"
          ]
        },
        "outputId": "ec4d13d5-c879-4046-deff-2ae11c48283a"
      },
      "outputs": [
        {
          "output_type": "stream",
          "name": "stdout",
          "text": [
            "Downloading https://www.cs.toronto.edu/~kriz/cifar-10-python.tar.gz to ./datasets/cifar10/cifar-10-python.tar.gz\n"
          ]
        },
        {
          "output_type": "display_data",
          "data": {
            "text/plain": [
              "  0%|          | 0/170498071 [00:00<?, ?it/s]"
            ],
            "application/vnd.jupyter.widget-view+json": {
              "version_major": 2,
              "version_minor": 0,
              "model_id": "27f47036bf0a4316a11fd04084f239dd"
            }
          },
          "metadata": {}
        },
        {
          "output_type": "stream",
          "name": "stdout",
          "text": [
            "Extracting ./datasets/cifar10/cifar-10-python.tar.gz to ./datasets/cifar10\n",
            "Files already downloaded and verified\n"
          ]
        }
      ],
      "source": [
        "DATASET_LOC = './datasets/' + CIFAR10_DATASET\n",
        "\n",
        "args.dataset = CIFAR10_DATASET\n",
        "args.data_loc = DATASET_LOC\n",
        "args.num_iter = NUM_ITER\n",
        "args.save_loc = SAVE_LOC\n",
        "\n",
        "args.nasspace = 'nasbench201'\n",
        "args.api_loc = '/content/NATS-tss-v1_0-3ffb9-simple'\n",
        "\n",
        "searchspace, train_loader, acc_type, val_acc_type = load_data(args)\n",
        "\n",
        "accs = np.zeros(args.num_iter)\n",
        "scores_logdet = np.zeros(args.num_iter)\n",
        "scores_trace = np.zeros(args.num_iter)"
      ]
    },
    {
      "cell_type": "code",
      "execution_count": null,
      "metadata": {
        "id": "49iW6cQvFPAi",
        "colab": {
          "base_uri": "https://localhost:8080/"
        },
        "outputId": "e1109af8-689e-4a1d-a1cf-4f3190262e41"
      },
      "outputs": [
        {
          "output_type": "stream",
          "name": "stderr",
          "text": [
            "/usr/local/lib/python3.7/dist-packages/torch/nn/modules/module.py:1033: UserWarning:\n",
            "\n",
            "Using a non-full backward hook when the forward contains multiple autograd Nodes is deprecated and will be removed in future versions. This hook will be missing some grad_input. Please use register_full_backward_hook to get the documented behavior.\n",
            "\n"
          ]
        }
      ],
      "source": [
        "for i, (uid, network) in enumerate(searchspace):\n",
        "  if i == args.num_iter:\n",
        "      break;\n",
        "\n",
        "  # Reproducibility\n",
        "  try:\n",
        "    if args.dropout:\n",
        "      add_dropout(network, args.sigma)\n",
        "    if args.init != '':\n",
        "      init_network(network, args.init)\n",
        "    if 'hook_' in args.score:\n",
        "      network.K = np.zeros((args.batch_size, args.batch_size))\n",
        "      # network.K = np.zeros(1)\n",
        "      for name, module in network.named_modules():\n",
        "        if 'ReLU' in str(type(module)):\n",
        "          # module.register_forward_hook(custom_counting_forward_hook)\n",
        "          module.register_forward_hook(optimized_forward_hook)\n",
        "          module.register_backward_hook(counting_backward_hook)\n",
        "    \n",
        "    network = network.to(device)\n",
        "    random.seed(args.seed)\n",
        "    np.random.seed(args.seed)\n",
        "    torch.manual_seed(args.seed)\n",
        "    \n",
        "    data_iterator = iter(train_loader)\n",
        "    x, target = next(data_iterator)\n",
        "    x2 = torch.clone(x)\n",
        "    x2 = x2.to(device)\n",
        "    x, target = x.to(device), target.to(device)\n",
        "\n",
        "    network(x2.to(device))\n",
        "    # scores_logdet[i] = get_score_func(args.score)(network.K, target)\n",
        "    scores_trace[i] = hooktrace(network.K)\n",
        "    #  eigenvalue max / min\n",
        "    # scores_trace[i] = network.K\n",
        "    accs[i] = searchspace.get_final_accuracy(uid, acc_type, args.trainval)\n",
        "\n",
        "  except Exception as e:\n",
        "    print(e)\n",
        "\n",
        "results = pd.DataFrame({\"accuracy\": accs,\n",
        "                    \"scores_trace\":scores_trace})\n",
        "# results = pd.DataFrame({\"accuracy\": accs,\n",
        "#                     \"scores_logdet\": scores_logdet,\n",
        "#                     \"scores_trace\":scores_trace})\n",
        "\n",
        "# norm_logdet = scores_logdet  / np.linalg.norm(scores_logdet)\n",
        "# norm_trace = scores_trace  / np.linalg.norm(scores_trace)\n",
        "\n",
        "# results_norm = pd.DataFrame({\"accuracy\": accs,\n",
        "#                         \"scores_logdet\": norm_logdet,\n",
        "#                         \"scores_trace\":norm_trace})\n",
        "\n",
        "base_filename = f'{SAVE_LOC}/{args.dataset}_{args.nasspace}_batch{args.batch_size}_{args.num_iter}samples_tss_test'\n",
        "\n",
        "results_filename = base_filename + '.csv'\n",
        "results.to_csv(results_filename, sep='\\t', encoding='utf-8')"
      ]
    },
    {
      "cell_type": "code",
      "execution_count": null,
      "metadata": {
        "id": "MrcE_A-tQItG"
      },
      "outputs": [],
      "source": [
        "results"
      ]
    },
    {
      "cell_type": "markdown",
      "metadata": {
        "id": "KQvSApyh4aLH"
      },
      "source": [
        "### 🅾 Outputs"
      ]
    },
    {
      "cell_type": "code",
      "execution_count": null,
      "metadata": {
        "id": "IbyOWVYHs2mJ"
      },
      "outputs": [],
      "source": [
        "# plot_results(results, \"scores_logdet\")"
      ]
    },
    {
      "cell_type": "code",
      "execution_count": null,
      "metadata": {
        "cellView": "code",
        "id": "D1td6dSq3hfZ",
        "colab": {
          "base_uri": "https://localhost:8080/",
          "height": 1000
        },
        "outputId": "16ded76c-4613-4895-b779-f39577720be6"
      },
      "outputs": [
        {
          "output_type": "stream",
          "name": "stderr",
          "text": [
            "/usr/local/lib/python3.7/dist-packages/statsmodels/tools/_testing.py:19: FutureWarning: pandas.util.testing is deprecated. Use the functions in the public API at pandas.testing instead.\n",
            "  import pandas.util.testing as tm\n"
          ]
        },
        {
          "output_type": "display_data",
          "data": {
            "text/html": [
              "<html>\n",
              "<head><meta charset=\"utf-8\" /></head>\n",
              "<body>\n",
              "    <div>            <script src=\"https://cdnjs.cloudflare.com/ajax/libs/mathjax/2.7.5/MathJax.js?config=TeX-AMS-MML_SVG\"></script><script type=\"text/javascript\">if (window.MathJax) {MathJax.Hub.Config({SVG: {font: \"STIX-Web\"}});}</script>                <script type=\"text/javascript\">window.PlotlyConfig = {MathJaxConfig: 'local'};</script>\n",
              "        <script src=\"https://cdn.plot.ly/plotly-2.8.3.min.js\"></script>                <div id=\"d66db3e9-1153-4659-b308-8e5ecd32c411\" class=\"plotly-graph-div\" style=\"height:800px; width:800px;\"></div>            <script type=\"text/javascript\">                                    window.PLOTLYENV=window.PLOTLYENV || {};                                    if (document.getElementById(\"d66db3e9-1153-4659-b308-8e5ecd32c411\")) {                    Plotly.newPlot(                        \"d66db3e9-1153-4659-b308-8e5ecd32c411\",                        [{\"hovertemplate\":\"accuracy=%{x}<br>scores_trace=%{y}<extra></extra>\",\"legendgroup\":\"\",\"marker\":{\"color\":\"#636efa\",\"symbol\":\"circle\"},\"mode\":\"markers\",\"name\":\"\",\"orientation\":\"v\",\"showlegend\":false,\"x\":[81.52,90.51333333333332,81.83999999999999,83.88333333333334,84.49666666666667,87.78000000000002,88.64666666666666,88.77333333333333,88.81,84.11666666666666,10.0,87.64999999999999,10.0,87.83666666666666,88.3,56.19333333333333,89.90333333333332,86.19666666666667,87.44666666666667,84.35666666666667,86.92666666666666,89.14,85.79333333333334,86.14999999999999,81.62333333333332,83.87666666666667,86.94333333333334,86.55000000000001,82.7,84.46,88.51333333333334,87.14666666666666,89.07666666666665,88.14666666666666,88.22333333333334,87.67,87.39333333333333,86.55000000000001,88.49333333333334,86.70666666666666,71.41333333333334,85.72000000000001,90.64333333333333,88.37,75.18666666666667,86.47666666666667,86.88333333333333,86.71999999999998,82.67666666666668,87.78333333333335,89.62333333333333,85.27666666666666,90.29333333333334,34.196666666666665,87.28666666666668,84.14666666666666,90.04666666666667,71.65666666666665,59.53666666666667,84.23666666666666,86.14999999999999,84.98,88.52666666666666,88.55333333333333,89.27666666666666,90.24000000000001,71.33666666666666,89.75666666666666,88.12666666666667,90.49,88.12333333333333,86.38,84.05,85.51333333333332,10.0,70.55333333333333,83.19,89.84333333333332,88.50333333333333,88.8,89.22333333333331,91.13,88.36333333333333,80.89333333333333,87.57,87.42,88.91666666666667,73.78333333333333,85.86000000000001,88.59666666666668,86.75666666666666,86.21,86.86333333333334,86.98,83.61333333333333,63.029999999999994,85.94333333333333,85.56666666666666,85.30333333333333,90.47666666666667],\"xaxis\":\"x\",\"y\":[41713598.0,60375030.0,41057958.0,5033444.0,41964102.0,60309663.0,41777780.0,23322863.0,42071445.0,5045142.0,6375382.0,59669654.0,0.0,41713494.0,60348648.0,5048883.0,41522861.0,60114706.0,59533250.0,59332725.0,23297187.0,60135674.0,42103027.0,60184414.0,23642285.0,5033444.0,77517559.0,60423288.0,23489461.0,23100227.0,23329492.0,41550864.0,42123464.0,60006660.0,41815776.0,41791727.0,59439445.0,23728700.0,59790668.0,41731443.0,5042623.0,60608535.0,41742523.0,41524710.0,23708770.0,23580660.0,41192135.0,23001802.0,23600121.0,41967675.0,96667861.0,23543301.0,59755961.0,5049139.0,59647486.0,5033444.0,59568121.0,23674016.0,5050085.0,59527660.0,60186469.0,41569863.0,60127352.0,78549952.0,96721627.0,96842991.0,5052006.0,97234332.0,41742198.0,41698451.0,23511488.0,41596102.0,5004001.0,41568528.0,2144334.0,23616744.0,23628796.0,60053903.0,77851221.0,23378078.0,60135674.0,96776968.0,78096155.0,23681603.0,41548627.0,60313511.0,60083461.0,23686756.0,41636594.0,41549368.0,77639976.0,60178207.0,60305437.0,41610546.0,42052615.0,5053041.0,60232358.0,23446220.0,41959131.0,59723385.0],\"yaxis\":\"y\",\"type\":\"scatter\"},{\"alignmentgroup\":\"True\",\"bingroup\":\"x\",\"hovertemplate\":\"accuracy=%{x}<br>count=%{y}<extra></extra>\",\"legendgroup\":\"\",\"marker\":{\"color\":\"#636efa\"},\"name\":\"\",\"offsetgroup\":\"\",\"opacity\":0.5,\"showlegend\":false,\"x\":[81.52,90.51333333333332,81.83999999999999,83.88333333333334,84.49666666666667,87.78000000000002,88.64666666666666,88.77333333333333,88.81,84.11666666666666,10.0,87.64999999999999,10.0,87.83666666666666,88.3,56.19333333333333,89.90333333333332,86.19666666666667,87.44666666666667,84.35666666666667,86.92666666666666,89.14,85.79333333333334,86.14999999999999,81.62333333333332,83.87666666666667,86.94333333333334,86.55000000000001,82.7,84.46,88.51333333333334,87.14666666666666,89.07666666666665,88.14666666666666,88.22333333333334,87.67,87.39333333333333,86.55000000000001,88.49333333333334,86.70666666666666,71.41333333333334,85.72000000000001,90.64333333333333,88.37,75.18666666666667,86.47666666666667,86.88333333333333,86.71999999999998,82.67666666666668,87.78333333333335,89.62333333333333,85.27666666666666,90.29333333333334,34.196666666666665,87.28666666666668,84.14666666666666,90.04666666666667,71.65666666666665,59.53666666666667,84.23666666666666,86.14999999999999,84.98,88.52666666666666,88.55333333333333,89.27666666666666,90.24000000000001,71.33666666666666,89.75666666666666,88.12666666666667,90.49,88.12333333333333,86.38,84.05,85.51333333333332,10.0,70.55333333333333,83.19,89.84333333333332,88.50333333333333,88.8,89.22333333333331,91.13,88.36333333333333,80.89333333333333,87.57,87.42,88.91666666666667,73.78333333333333,85.86000000000001,88.59666666666668,86.75666666666666,86.21,86.86333333333334,86.98,83.61333333333333,63.029999999999994,85.94333333333333,85.56666666666666,85.30333333333333,90.47666666666667],\"xaxis\":\"x3\",\"yaxis\":\"y3\",\"type\":\"histogram\"},{\"alignmentgroup\":\"True\",\"bingroup\":\"y\",\"hovertemplate\":\"scores_trace=%{y}<br>count=%{x}<extra></extra>\",\"legendgroup\":\"\",\"marker\":{\"color\":\"#636efa\"},\"name\":\"\",\"offsetgroup\":\"\",\"opacity\":0.5,\"showlegend\":false,\"xaxis\":\"x2\",\"y\":[41713598.0,60375030.0,41057958.0,5033444.0,41964102.0,60309663.0,41777780.0,23322863.0,42071445.0,5045142.0,6375382.0,59669654.0,0.0,41713494.0,60348648.0,5048883.0,41522861.0,60114706.0,59533250.0,59332725.0,23297187.0,60135674.0,42103027.0,60184414.0,23642285.0,5033444.0,77517559.0,60423288.0,23489461.0,23100227.0,23329492.0,41550864.0,42123464.0,60006660.0,41815776.0,41791727.0,59439445.0,23728700.0,59790668.0,41731443.0,5042623.0,60608535.0,41742523.0,41524710.0,23708770.0,23580660.0,41192135.0,23001802.0,23600121.0,41967675.0,96667861.0,23543301.0,59755961.0,5049139.0,59647486.0,5033444.0,59568121.0,23674016.0,5050085.0,59527660.0,60186469.0,41569863.0,60127352.0,78549952.0,96721627.0,96842991.0,5052006.0,97234332.0,41742198.0,41698451.0,23511488.0,41596102.0,5004001.0,41568528.0,2144334.0,23616744.0,23628796.0,60053903.0,77851221.0,23378078.0,60135674.0,96776968.0,78096155.0,23681603.0,41548627.0,60313511.0,60083461.0,23686756.0,41636594.0,41549368.0,77639976.0,60178207.0,60305437.0,41610546.0,42052615.0,5053041.0,60232358.0,23446220.0,41959131.0,59723385.0],\"yaxis\":\"y2\",\"type\":\"histogram\"},{\"hovertemplate\":\"<b>OLS trendline</b><br>scores_trace = 834448 * accuracy + -2.62286e+07<br>R<sup>2</sup>=0.275261<br><br>accuracy=%{x}<br>scores_trace=%{y} <b>(trend)</b><extra></extra>\",\"legendgroup\":\"\",\"marker\":{\"color\":\"#636efa\",\"symbol\":\"circle\"},\"mode\":\"lines\",\"name\":\"\",\"showlegend\":false,\"x\":[10.0,10.0,10.0,34.196666666666665,56.19333333333333,59.53666666666667,63.029999999999994,70.55333333333333,71.33666666666666,71.41333333333334,71.65666666666665,73.78333333333333,75.18666666666667,80.89333333333333,81.52,81.62333333333332,81.83999999999999,82.67666666666668,82.7,83.19,83.61333333333333,83.87666666666667,83.88333333333334,84.05,84.11666666666666,84.14666666666666,84.23666666666666,84.35666666666667,84.46,84.49666666666667,84.98,85.27666666666666,85.30333333333333,85.51333333333332,85.56666666666666,85.72000000000001,85.79333333333334,85.86000000000001,85.94333333333333,86.14999999999999,86.14999999999999,86.19666666666667,86.21,86.38,86.47666666666667,86.55000000000001,86.55000000000001,86.70666666666666,86.71999999999998,86.75666666666666,86.86333333333334,86.88333333333333,86.92666666666666,86.94333333333334,86.98,87.14666666666666,87.28666666666668,87.39333333333333,87.42,87.44666666666667,87.57,87.64999999999999,87.67,87.78000000000002,87.78333333333335,87.83666666666666,88.12333333333333,88.12666666666667,88.14666666666666,88.22333333333334,88.3,88.36333333333333,88.37,88.49333333333334,88.50333333333333,88.51333333333334,88.52666666666666,88.55333333333333,88.59666666666668,88.64666666666666,88.77333333333333,88.8,88.81,88.91666666666667,89.07666666666665,89.14,89.22333333333331,89.27666666666666,89.62333333333333,89.75666666666666,89.84333333333332,89.90333333333332,90.04666666666667,90.24000000000001,90.29333333333334,90.47666666666667,90.49,90.51333333333332,90.64333333333333,91.13],\"xaxis\":\"x\",\"y\":[-17884120.73626252,-17884120.73626252,-17884120.73626252,2306740.8216967806,20661816.64770221,23451654.661565445,26366659.88442552,32644490.7890011,33298141.769318007,33362116.12058308,33565165.14851129,35339758.022733375,36510766.80023728,41272683.729184285,41795604.51343781,41881830.81296897,42062627.8926311,42760782.76948024,42780253.22421308,43189132.7736028,43542382.45232725,43762120.441455066,43767683.4285216,43906758.10518476,43962387.97585003,43987421.4176494,44062521.74304752,44162655.51024501,44248881.80977617,44279478.23864207,44682794.800965264,44930347.725425705,44952599.67369181,45127833.7662874,45172337.662819624,45300286.365349755,45361479.223081544,45417109.093746826,45486646.43207839,45659099.03114073,45659099.03114073,45698039.94060643,45709165.914739475,45851022.0849359,45931685.39740056,45992878.25513236,45992878.25513236,46123608.45119573,46134734.425328776,46165330.85419467,46254338.647259116,46271027.60845868,46307187.024391115,46321094.49205744,46351690.92092334,46490765.5975865,46607588.32598357,46696596.119048,46718848.0673141,46741100.01558022,46844015.27631095,46910771.12110928,46927460.08230886,47019249.36890657,47022030.862439826,47066534.758972034,47305743.202832684,47308524.69636595,47325213.657565534,47389188.00883061,47453162.36009565,47506010.73722765,47511573.724294186,47614488.98502493,47622833.46562472,47631177.94622451,47642303.920357555,47664555.868623674,47700715.284556106,47742437.687555045,47848134.44181906,47870386.39008516,47878730.87068497,47967738.6637494,48101250.35334602,48154098.73047803,48223636.06880961,48268139.965341836,48557415.29280123,48668675.034131765,48740993.865996614,48791060.74959536,48910664.9715257,49071991.59645498,49116495.492987186,49269477.63731669,49280603.61144973,49300074.06618257,49408552.31397985,49814650.3698363],\"yaxis\":\"y\",\"type\":\"scatter\"}],                        {\"template\":{\"data\":{\"bar\":[{\"error_x\":{\"color\":\"#2a3f5f\"},\"error_y\":{\"color\":\"#2a3f5f\"},\"marker\":{\"line\":{\"color\":\"#E5ECF6\",\"width\":0.5},\"pattern\":{\"fillmode\":\"overlay\",\"size\":10,\"solidity\":0.2}},\"type\":\"bar\"}],\"barpolar\":[{\"marker\":{\"line\":{\"color\":\"#E5ECF6\",\"width\":0.5},\"pattern\":{\"fillmode\":\"overlay\",\"size\":10,\"solidity\":0.2}},\"type\":\"barpolar\"}],\"carpet\":[{\"aaxis\":{\"endlinecolor\":\"#2a3f5f\",\"gridcolor\":\"white\",\"linecolor\":\"white\",\"minorgridcolor\":\"white\",\"startlinecolor\":\"#2a3f5f\"},\"baxis\":{\"endlinecolor\":\"#2a3f5f\",\"gridcolor\":\"white\",\"linecolor\":\"white\",\"minorgridcolor\":\"white\",\"startlinecolor\":\"#2a3f5f\"},\"type\":\"carpet\"}],\"choropleth\":[{\"colorbar\":{\"outlinewidth\":0,\"ticks\":\"\"},\"type\":\"choropleth\"}],\"contour\":[{\"colorbar\":{\"outlinewidth\":0,\"ticks\":\"\"},\"colorscale\":[[0.0,\"#0d0887\"],[0.1111111111111111,\"#46039f\"],[0.2222222222222222,\"#7201a8\"],[0.3333333333333333,\"#9c179e\"],[0.4444444444444444,\"#bd3786\"],[0.5555555555555556,\"#d8576b\"],[0.6666666666666666,\"#ed7953\"],[0.7777777777777778,\"#fb9f3a\"],[0.8888888888888888,\"#fdca26\"],[1.0,\"#f0f921\"]],\"type\":\"contour\"}],\"contourcarpet\":[{\"colorbar\":{\"outlinewidth\":0,\"ticks\":\"\"},\"type\":\"contourcarpet\"}],\"heatmap\":[{\"colorbar\":{\"outlinewidth\":0,\"ticks\":\"\"},\"colorscale\":[[0.0,\"#0d0887\"],[0.1111111111111111,\"#46039f\"],[0.2222222222222222,\"#7201a8\"],[0.3333333333333333,\"#9c179e\"],[0.4444444444444444,\"#bd3786\"],[0.5555555555555556,\"#d8576b\"],[0.6666666666666666,\"#ed7953\"],[0.7777777777777778,\"#fb9f3a\"],[0.8888888888888888,\"#fdca26\"],[1.0,\"#f0f921\"]],\"type\":\"heatmap\"}],\"heatmapgl\":[{\"colorbar\":{\"outlinewidth\":0,\"ticks\":\"\"},\"colorscale\":[[0.0,\"#0d0887\"],[0.1111111111111111,\"#46039f\"],[0.2222222222222222,\"#7201a8\"],[0.3333333333333333,\"#9c179e\"],[0.4444444444444444,\"#bd3786\"],[0.5555555555555556,\"#d8576b\"],[0.6666666666666666,\"#ed7953\"],[0.7777777777777778,\"#fb9f3a\"],[0.8888888888888888,\"#fdca26\"],[1.0,\"#f0f921\"]],\"type\":\"heatmapgl\"}],\"histogram\":[{\"marker\":{\"pattern\":{\"fillmode\":\"overlay\",\"size\":10,\"solidity\":0.2}},\"type\":\"histogram\"}],\"histogram2d\":[{\"colorbar\":{\"outlinewidth\":0,\"ticks\":\"\"},\"colorscale\":[[0.0,\"#0d0887\"],[0.1111111111111111,\"#46039f\"],[0.2222222222222222,\"#7201a8\"],[0.3333333333333333,\"#9c179e\"],[0.4444444444444444,\"#bd3786\"],[0.5555555555555556,\"#d8576b\"],[0.6666666666666666,\"#ed7953\"],[0.7777777777777778,\"#fb9f3a\"],[0.8888888888888888,\"#fdca26\"],[1.0,\"#f0f921\"]],\"type\":\"histogram2d\"}],\"histogram2dcontour\":[{\"colorbar\":{\"outlinewidth\":0,\"ticks\":\"\"},\"colorscale\":[[0.0,\"#0d0887\"],[0.1111111111111111,\"#46039f\"],[0.2222222222222222,\"#7201a8\"],[0.3333333333333333,\"#9c179e\"],[0.4444444444444444,\"#bd3786\"],[0.5555555555555556,\"#d8576b\"],[0.6666666666666666,\"#ed7953\"],[0.7777777777777778,\"#fb9f3a\"],[0.8888888888888888,\"#fdca26\"],[1.0,\"#f0f921\"]],\"type\":\"histogram2dcontour\"}],\"mesh3d\":[{\"colorbar\":{\"outlinewidth\":0,\"ticks\":\"\"},\"type\":\"mesh3d\"}],\"parcoords\":[{\"line\":{\"colorbar\":{\"outlinewidth\":0,\"ticks\":\"\"}},\"type\":\"parcoords\"}],\"pie\":[{\"automargin\":true,\"type\":\"pie\"}],\"scatter\":[{\"marker\":{\"colorbar\":{\"outlinewidth\":0,\"ticks\":\"\"}},\"type\":\"scatter\"}],\"scatter3d\":[{\"line\":{\"colorbar\":{\"outlinewidth\":0,\"ticks\":\"\"}},\"marker\":{\"colorbar\":{\"outlinewidth\":0,\"ticks\":\"\"}},\"type\":\"scatter3d\"}],\"scattercarpet\":[{\"marker\":{\"colorbar\":{\"outlinewidth\":0,\"ticks\":\"\"}},\"type\":\"scattercarpet\"}],\"scattergeo\":[{\"marker\":{\"colorbar\":{\"outlinewidth\":0,\"ticks\":\"\"}},\"type\":\"scattergeo\"}],\"scattergl\":[{\"marker\":{\"colorbar\":{\"outlinewidth\":0,\"ticks\":\"\"}},\"type\":\"scattergl\"}],\"scattermapbox\":[{\"marker\":{\"colorbar\":{\"outlinewidth\":0,\"ticks\":\"\"}},\"type\":\"scattermapbox\"}],\"scatterpolar\":[{\"marker\":{\"colorbar\":{\"outlinewidth\":0,\"ticks\":\"\"}},\"type\":\"scatterpolar\"}],\"scatterpolargl\":[{\"marker\":{\"colorbar\":{\"outlinewidth\":0,\"ticks\":\"\"}},\"type\":\"scatterpolargl\"}],\"scatterternary\":[{\"marker\":{\"colorbar\":{\"outlinewidth\":0,\"ticks\":\"\"}},\"type\":\"scatterternary\"}],\"surface\":[{\"colorbar\":{\"outlinewidth\":0,\"ticks\":\"\"},\"colorscale\":[[0.0,\"#0d0887\"],[0.1111111111111111,\"#46039f\"],[0.2222222222222222,\"#7201a8\"],[0.3333333333333333,\"#9c179e\"],[0.4444444444444444,\"#bd3786\"],[0.5555555555555556,\"#d8576b\"],[0.6666666666666666,\"#ed7953\"],[0.7777777777777778,\"#fb9f3a\"],[0.8888888888888888,\"#fdca26\"],[1.0,\"#f0f921\"]],\"type\":\"surface\"}],\"table\":[{\"cells\":{\"fill\":{\"color\":\"#EBF0F8\"},\"line\":{\"color\":\"white\"}},\"header\":{\"fill\":{\"color\":\"#C8D4E3\"},\"line\":{\"color\":\"white\"}},\"type\":\"table\"}]},\"layout\":{\"annotationdefaults\":{\"arrowcolor\":\"#2a3f5f\",\"arrowhead\":0,\"arrowwidth\":1},\"autotypenumbers\":\"strict\",\"coloraxis\":{\"colorbar\":{\"outlinewidth\":0,\"ticks\":\"\"}},\"colorscale\":{\"diverging\":[[0,\"#8e0152\"],[0.1,\"#c51b7d\"],[0.2,\"#de77ae\"],[0.3,\"#f1b6da\"],[0.4,\"#fde0ef\"],[0.5,\"#f7f7f7\"],[0.6,\"#e6f5d0\"],[0.7,\"#b8e186\"],[0.8,\"#7fbc41\"],[0.9,\"#4d9221\"],[1,\"#276419\"]],\"sequential\":[[0.0,\"#0d0887\"],[0.1111111111111111,\"#46039f\"],[0.2222222222222222,\"#7201a8\"],[0.3333333333333333,\"#9c179e\"],[0.4444444444444444,\"#bd3786\"],[0.5555555555555556,\"#d8576b\"],[0.6666666666666666,\"#ed7953\"],[0.7777777777777778,\"#fb9f3a\"],[0.8888888888888888,\"#fdca26\"],[1.0,\"#f0f921\"]],\"sequentialminus\":[[0.0,\"#0d0887\"],[0.1111111111111111,\"#46039f\"],[0.2222222222222222,\"#7201a8\"],[0.3333333333333333,\"#9c179e\"],[0.4444444444444444,\"#bd3786\"],[0.5555555555555556,\"#d8576b\"],[0.6666666666666666,\"#ed7953\"],[0.7777777777777778,\"#fb9f3a\"],[0.8888888888888888,\"#fdca26\"],[1.0,\"#f0f921\"]]},\"colorway\":[\"#636efa\",\"#EF553B\",\"#00cc96\",\"#ab63fa\",\"#FFA15A\",\"#19d3f3\",\"#FF6692\",\"#B6E880\",\"#FF97FF\",\"#FECB52\"],\"font\":{\"color\":\"#2a3f5f\"},\"geo\":{\"bgcolor\":\"white\",\"lakecolor\":\"white\",\"landcolor\":\"#E5ECF6\",\"showlakes\":true,\"showland\":true,\"subunitcolor\":\"white\"},\"hoverlabel\":{\"align\":\"left\"},\"hovermode\":\"closest\",\"mapbox\":{\"style\":\"light\"},\"paper_bgcolor\":\"white\",\"plot_bgcolor\":\"#E5ECF6\",\"polar\":{\"angularaxis\":{\"gridcolor\":\"white\",\"linecolor\":\"white\",\"ticks\":\"\"},\"bgcolor\":\"#E5ECF6\",\"radialaxis\":{\"gridcolor\":\"white\",\"linecolor\":\"white\",\"ticks\":\"\"}},\"scene\":{\"xaxis\":{\"backgroundcolor\":\"#E5ECF6\",\"gridcolor\":\"white\",\"gridwidth\":2,\"linecolor\":\"white\",\"showbackground\":true,\"ticks\":\"\",\"zerolinecolor\":\"white\"},\"yaxis\":{\"backgroundcolor\":\"#E5ECF6\",\"gridcolor\":\"white\",\"gridwidth\":2,\"linecolor\":\"white\",\"showbackground\":true,\"ticks\":\"\",\"zerolinecolor\":\"white\"},\"zaxis\":{\"backgroundcolor\":\"#E5ECF6\",\"gridcolor\":\"white\",\"gridwidth\":2,\"linecolor\":\"white\",\"showbackground\":true,\"ticks\":\"\",\"zerolinecolor\":\"white\"}},\"shapedefaults\":{\"line\":{\"color\":\"#2a3f5f\"}},\"ternary\":{\"aaxis\":{\"gridcolor\":\"white\",\"linecolor\":\"white\",\"ticks\":\"\"},\"baxis\":{\"gridcolor\":\"white\",\"linecolor\":\"white\",\"ticks\":\"\"},\"bgcolor\":\"#E5ECF6\",\"caxis\":{\"gridcolor\":\"white\",\"linecolor\":\"white\",\"ticks\":\"\"}},\"title\":{\"x\":0.05},\"xaxis\":{\"automargin\":true,\"gridcolor\":\"white\",\"linecolor\":\"white\",\"ticks\":\"\",\"title\":{\"standoff\":15},\"zerolinecolor\":\"white\",\"zerolinewidth\":2},\"yaxis\":{\"automargin\":true,\"gridcolor\":\"white\",\"linecolor\":\"white\",\"ticks\":\"\",\"title\":{\"standoff\":15},\"zerolinecolor\":\"white\",\"zerolinewidth\":2}}},\"xaxis\":{\"anchor\":\"y\",\"domain\":[0.0,0.7363],\"title\":{\"text\":\"accuracy\"}},\"yaxis\":{\"anchor\":\"x\",\"domain\":[0.0,0.7326],\"title\":{\"text\":\"scores_trace\"}},\"xaxis2\":{\"anchor\":\"y2\",\"domain\":[0.7413,1.0],\"matches\":\"x2\",\"showticklabels\":false,\"showline\":false,\"ticks\":\"\",\"showgrid\":true},\"yaxis2\":{\"anchor\":\"x2\",\"domain\":[0.0,0.7326],\"matches\":\"y\",\"showticklabels\":false,\"showgrid\":true},\"xaxis3\":{\"anchor\":\"y3\",\"domain\":[0.0,0.7363],\"matches\":\"x\",\"showticklabels\":false,\"showgrid\":true},\"yaxis3\":{\"anchor\":\"x3\",\"domain\":[0.7426,1.0],\"matches\":\"y3\",\"showticklabels\":false,\"showline\":false,\"ticks\":\"\",\"showgrid\":true},\"xaxis4\":{\"anchor\":\"y4\",\"domain\":[0.7413,1.0],\"matches\":\"x2\",\"showticklabels\":false,\"showgrid\":true,\"showline\":false,\"ticks\":\"\"},\"yaxis4\":{\"anchor\":\"x4\",\"domain\":[0.7426,1.0],\"matches\":\"y3\",\"showticklabels\":false,\"showline\":false,\"ticks\":\"\",\"showgrid\":true},\"legend\":{\"tracegroupgap\":0},\"margin\":{\"t\":60},\"height\":800,\"width\":800,\"barmode\":\"overlay\"},                        {\"responsive\": true}                    ).then(function(){\n",
              "                            \n",
              "var gd = document.getElementById('d66db3e9-1153-4659-b308-8e5ecd32c411');\n",
              "var x = new MutationObserver(function (mutations, observer) {{\n",
              "        var display = window.getComputedStyle(gd).display;\n",
              "        if (!display || display === 'none') {{\n",
              "            console.log([gd, 'removed!']);\n",
              "            Plotly.purge(gd);\n",
              "            observer.disconnect();\n",
              "        }}\n",
              "}});\n",
              "\n",
              "// Listen for the removal of the full notebook cells\n",
              "var notebookContainer = gd.closest('#notebook-container');\n",
              "if (notebookContainer) {{\n",
              "    x.observe(notebookContainer, {childList: true});\n",
              "}}\n",
              "\n",
              "// Listen for the clearing of the current output cell\n",
              "var outputEl = gd.closest('.output');\n",
              "if (outputEl) {{\n",
              "    x.observe(outputEl, {childList: true});\n",
              "}}\n",
              "\n",
              "                        })                };                            </script>        </div>\n",
              "</body>\n",
              "</html>"
            ]
          },
          "metadata": {}
        },
        {
          "output_type": "stream",
          "name": "stdout",
          "text": [
            "y=834448.1x+-26228601.3\n"
          ]
        },
        {
          "output_type": "error",
          "ename": "NameError",
          "evalue": "ignored",
          "traceback": [
            "\u001b[0;31m---------------------------------------------------------------------------\u001b[0m",
            "\u001b[0;31mNameError\u001b[0m                                 Traceback (most recent call last)",
            "\u001b[0;32m<ipython-input-39-361f3ae8cf26>\u001b[0m in \u001b[0;36m<module>\u001b[0;34m()\u001b[0m\n\u001b[0;32m----> 1\u001b[0;31m \u001b[0mplot_results\u001b[0m\u001b[0;34m(\u001b[0m\u001b[0mresults\u001b[0m\u001b[0;34m,\u001b[0m \u001b[0;34m\"scores_trace\"\u001b[0m\u001b[0;34m)\u001b[0m\u001b[0;34m\u001b[0m\u001b[0;34m\u001b[0m\u001b[0m\n\u001b[0m",
            "\u001b[0;32m<ipython-input-34-8a2d7d9a0ff3>\u001b[0m in \u001b[0;36mplot_results\u001b[0;34m(results, score)\u001b[0m\n\u001b[1;32m     13\u001b[0m \u001b[0;34m\u001b[0m\u001b[0m\n\u001b[1;32m     14\u001b[0m   \u001b[0mprint\u001b[0m\u001b[0;34m(\u001b[0m\u001b[0;34m\"y={0:.1f}x+{1:.1f}\"\u001b[0m\u001b[0;34m.\u001b[0m\u001b[0mformat\u001b[0m\u001b[0;34m(\u001b[0m\u001b[0mslope\u001b[0m\u001b[0;34m,\u001b[0m\u001b[0mintercept\u001b[0m\u001b[0;34m)\u001b[0m\u001b[0;34m)\u001b[0m\u001b[0;34m\u001b[0m\u001b[0;34m\u001b[0m\u001b[0m\n\u001b[0;32m---> 15\u001b[0;31m   \u001b[0mprint\u001b[0m\u001b[0;34m(\u001b[0m\u001b[0;34m\"Pearson correlation is {}\"\u001b[0m\u001b[0;34m.\u001b[0m\u001b[0mformat\u001b[0m\u001b[0;34m(\u001b[0m\u001b[0mstats\u001b[0m\u001b[0;34m.\u001b[0m\u001b[0mpearsonr\u001b[0m\u001b[0;34m(\u001b[0m\u001b[0mresults\u001b[0m\u001b[0;34m[\u001b[0m\u001b[0;34m'accuracy'\u001b[0m\u001b[0;34m]\u001b[0m\u001b[0;34m,\u001b[0m \u001b[0mresults_norm\u001b[0m\u001b[0;34m[\u001b[0m\u001b[0mscore\u001b[0m\u001b[0;34m]\u001b[0m\u001b[0;34m)\u001b[0m\u001b[0;34m[\u001b[0m\u001b[0;36m0\u001b[0m\u001b[0;34m]\u001b[0m\u001b[0;34m)\u001b[0m\u001b[0;34m)\u001b[0m\u001b[0;34m\u001b[0m\u001b[0;34m\u001b[0m\u001b[0m\n\u001b[0m\u001b[1;32m     16\u001b[0m \u001b[0;34m\u001b[0m\u001b[0m\n\u001b[1;32m     17\u001b[0m \u001b[0;32mdef\u001b[0m \u001b[0mplot_go_result\u001b[0m\u001b[0;34m(\u001b[0m\u001b[0mresults\u001b[0m\u001b[0;34m)\u001b[0m\u001b[0;34m:\u001b[0m\u001b[0;34m\u001b[0m\u001b[0;34m\u001b[0m\u001b[0m\n",
            "\u001b[0;31mNameError\u001b[0m: name 'results_norm' is not defined"
          ]
        }
      ],
      "source": [
        "plot_results(results, \"scores_trace\")"
      ]
    },
    {
      "cell_type": "code",
      "execution_count": null,
      "metadata": {
        "id": "79dV1RYH-4kQ"
      },
      "outputs": [],
      "source": [
        "# plot_go_result(results_norm)"
      ]
    },
    {
      "cell_type": "code",
      "execution_count": null,
      "metadata": {
        "id": "3DlhhuTiLNgZ"
      },
      "outputs": [],
      "source": [
        "base_filename = f'{SAVE_LOC}/{args.dataset}_{args.nasspace}_batch{args.batch_size}_{args.num_iter}samples_tss_test'\n",
        "\n",
        "results_filename = base_filename + '.csv'\n",
        "results.to_csv(results_filename, sep='\\t', encoding='utf-8')\n",
        "\n",
        "# norm_results_filename = base_filename + '_norm.csv'\n",
        "# results_norm.to_csv(norm_results_filename, sep='\\t', encoding='utf-8')"
      ]
    },
    {
      "cell_type": "markdown",
      "metadata": {
        "id": "0w1G2BFTZjVD"
      },
      "source": [
        ""
      ]
    },
    {
      "cell_type": "markdown",
      "metadata": {
        "id": "I1IENd4RLA85"
      },
      "source": [
        "## CIFAR100"
      ]
    },
    {
      "cell_type": "markdown",
      "metadata": {
        "id": "N_zqg7MS_lJR"
      },
      "source": [
        "### 🧑 Experiment"
      ]
    },
    {
      "cell_type": "code",
      "execution_count": null,
      "metadata": {
        "id": "PJ574-ccLCV3",
        "colab": {
          "base_uri": "https://localhost:8080/",
          "height": 101,
          "referenced_widgets": [
            "88badfe367e8416dbbeae7dfef2b51ee",
            "c0e2a432d2474e149e8c570ff85830fa",
            "0ad71172cfd6415480229284c44d0cdf",
            "b78fc1d069394aec85087617b4f6a497",
            "ba9971473d164370b484e94ed988e268",
            "34de0aeb8c234f02bed0363f0ef390de",
            "95845e39139f43bfa8c74eea1c55b3c8",
            "c560598d8f8d47e29667cb2948a1f6ff",
            "bee94bb359434f9e83d6cecaa233621d",
            "e837a6c88776493586e47e0fe76afd2d",
            "efe3fbe0802f43468f78e44194c9a4c7"
          ]
        },
        "outputId": "8d23746c-787b-4d0c-d638-b08e9cd69120"
      },
      "outputs": [
        {
          "output_type": "stream",
          "name": "stdout",
          "text": [
            "Downloading https://www.cs.toronto.edu/~kriz/cifar-100-python.tar.gz to ./datasets/cifar100/cifar-100-python.tar.gz\n"
          ]
        },
        {
          "output_type": "display_data",
          "data": {
            "text/plain": [
              "  0%|          | 0/169001437 [00:00<?, ?it/s]"
            ],
            "application/vnd.jupyter.widget-view+json": {
              "version_major": 2,
              "version_minor": 0,
              "model_id": "88badfe367e8416dbbeae7dfef2b51ee"
            }
          },
          "metadata": {}
        },
        {
          "output_type": "stream",
          "name": "stdout",
          "text": [
            "Extracting ./datasets/cifar100/cifar-100-python.tar.gz to ./datasets/cifar100\n",
            "Files already downloaded and verified\n"
          ]
        }
      ],
      "source": [
        "DATASET_LOC = './datasets/' + CIFAR100_DATASET\n",
        "args.dataset = CIFAR100_DATASET\n",
        "args.data_loc = DATASET_LOC\n",
        "args.num_iter = NUM_ITER\n",
        "args.save_loc = SAVE_LOC\n",
        "\n",
        "accs = np.zeros(args.num_iter)\n",
        "scores_logdet = np.zeros(args.num_iter)\n",
        "scores_trace = np.zeros(args.num_iter)\n",
        "\n",
        "searchspace, train_loader, acc_type, val_acc_type = load_data(args)"
      ]
    },
    {
      "cell_type": "code",
      "execution_count": null,
      "metadata": {
        "id": "WY2GTKdFMoX7"
      },
      "outputs": [],
      "source": [
        "for i, (uid, network) in enumerate(searchspace):\n",
        "  if i == args.num_iter and i > 0:\n",
        "      break;\n",
        "  # Reproducibility\n",
        "  try:\n",
        "    if args.dropout:\n",
        "      add_dropout(network, args.sigma)\n",
        "    if args.init != '':\n",
        "      init_network(network, args.init)\n",
        "    if 'hook_' in args.score:\n",
        "      network.K = np.zeros((args.batch_size, args.batch_size))\n",
        "      for name, module in network.named_modules():\n",
        "        if 'ReLU' in str(type(module)):\n",
        "          module.register_forward_hook(counting_forward_hook)\n",
        "          module.register_backward_hook(counting_backward_hook)\n",
        "    \n",
        "    network = network.to(device)\n",
        "    random.seed(args.seed)\n",
        "    np.random.seed(args.seed)\n",
        "    torch.manual_seed(args.seed)\n",
        "    \n",
        "    data_iterator = iter(train_loader)\n",
        "    x, target = next(data_iterator)\n",
        "    x2 = torch.clone(x)\n",
        "    x2 = x2.to(device)\n",
        "    x, target = x.to(device), target.to(device)\n",
        "\n",
        "    network(x2.to(device))\n",
        "    scores_logdet[i] = get_score_func(args.score)(network.K, target)\n",
        "    scores_trace[i] = hooktrace(network.K)\n",
        "    accs[i] = searchspace.get_final_accuracy(uid, acc_type, args.trainval)\n",
        "\n",
        "  except Exception as e:\n",
        "    print(e)\n",
        "\n",
        "results = pd.DataFrame({\"accuracy\": accs,\n",
        "                    \"scores_logdet\": scores_logdet,\n",
        "                    \"scores_trace\":scores_trace})\n",
        "\n",
        "norm_logdet = scores_logdet  / np.linalg.norm(scores_logdet)\n",
        "norm_trace = scores_trace  / np.linalg.norm(scores_trace)\n",
        "\n",
        "results_norm = pd.DataFrame({\"accuracy\": accs,\n",
        "                        \"scores_logdet\": norm_logdet,\n",
        "                        \"scores_trace\":norm_trace})\n"
      ]
    },
    {
      "cell_type": "code",
      "execution_count": null,
      "metadata": {
        "id": "cC1Tqzr9eY-T"
      },
      "outputs": [],
      "source": [
        "results = pd.DataFrame({\"accuracy\": accs,\n",
        "                    \"scores_logdet\": scores_logdet,\n",
        "                    \"scores_trace\":scores_trace})\n",
        "\n",
        "norm_logdet = scores_logdet  / np.linalg.norm(scores_logdet)\n",
        "norm_trace = scores_trace  / np.linalg.norm(scores_trace)\n",
        "\n",
        "results_norm = pd.DataFrame({\"accuracy\": accs,\n",
        "                        \"scores_logdet\": norm_logdet,\n",
        "                        \"scores_trace\":norm_trace})"
      ]
    },
    {
      "cell_type": "markdown",
      "metadata": {
        "id": "QJMXaQVd_nug"
      },
      "source": [
        "### 🅾 Outputs"
      ]
    },
    {
      "cell_type": "code",
      "execution_count": null,
      "metadata": {
        "id": "DAYyMLppMt6h"
      },
      "outputs": [],
      "source": [
        "plot_results(results, \"scores_logdet\")"
      ]
    },
    {
      "cell_type": "code",
      "execution_count": null,
      "metadata": {
        "id": "-u1EO3DVMyNf"
      },
      "outputs": [],
      "source": [
        "plot_results(results, \"scores_trace\")"
      ]
    },
    {
      "cell_type": "code",
      "execution_count": null,
      "metadata": {
        "id": "jR2E2cH0Mza_"
      },
      "outputs": [],
      "source": [
        "plot_go_result(results_norm)"
      ]
    },
    {
      "cell_type": "code",
      "execution_count": null,
      "metadata": {
        "id": "gLuInlI1N_je"
      },
      "outputs": [],
      "source": [
        "base_filename = f'{SAVE_LOC}/{args.dataset}_{args.nasspace}_batch{args.batch_size}_{args.num_iter}samples'\n",
        "\n",
        "results_filename = base_filename + '.csv'\n",
        "results.to_csv(results_filename, sep='\\t', encoding='utf-8')\n",
        "\n",
        "norm_results_filename = base_filename + '_norm.csv'\n",
        "results_norm.to_csv(norm_results_filename, sep='\\t', encoding='utf-8')"
      ]
    },
    {
      "cell_type": "markdown",
      "metadata": {
        "id": "_fXFc6bgPGuy"
      },
      "source": [
        "## IMAGENET"
      ]
    },
    {
      "cell_type": "code",
      "execution_count": null,
      "metadata": {
        "id": "W3UEYsBPPHkp"
      },
      "outputs": [],
      "source": [
        "args.dataset = IMAGENET_DATASET\n",
        "args.data_loc = './datasets/ImageNet16'\n",
        "args.num_iter = NUM_ITER\n",
        "args.save_loc = SAVE_LOC\n",
        "\n",
        "accs = np.zeros(args.num_iter)\n",
        "scores_logdet = np.zeros(args.num_iter)\n",
        "scores_trace = np.zeros(args.num_iter)\n",
        "\n",
        "searchspace, train_loader, acc_type, val_acc_type = load_data(args)"
      ]
    },
    {
      "cell_type": "code",
      "execution_count": null,
      "metadata": {
        "id": "YqTw0SB3PNaf"
      },
      "outputs": [],
      "source": [
        "for i, (uid, network) in enumerate(searchspace):\n",
        "  if i == args.num_iter:\n",
        "      break;\n",
        "\n",
        "  # Reproducibility\n",
        "  try:\n",
        "    if args.dropout:\n",
        "      add_dropout(network, args.sigma)\n",
        "    if args.init != '':\n",
        "      init_network(network, args.init)\n",
        "    if 'hook_' in args.score:\n",
        "      network.K = np.zeros((args.batch_size, args.batch_size))\n",
        "      for name, module in network.named_modules():\n",
        "        if 'ReLU' in str(type(module)):\n",
        "          module.register_forward_hook(counting_forward_hook)\n",
        "          module.register_backward_hook(counting_backward_hook)\n",
        "    \n",
        "    network = network.to(device)\n",
        "    random.seed(args.seed)\n",
        "    np.random.seed(args.seed)\n",
        "    torch.manual_seed(args.seed)\n",
        "    \n",
        "    data_iterator = iter(train_loader)\n",
        "    x, target = next(data_iterator)\n",
        "    x2 = torch.clone(x)\n",
        "    x2 = x2.to(device)\n",
        "    x, target = x.to(device), target.to(device)\n",
        "\n",
        "    network(x2.to(device))\n",
        "    scores_logdet[i] = get_score_func(args.score)(network.K, target)\n",
        "    scores_trace[i] = hooktrace(network.K)\n",
        "    accs[i] = searchspace.get_final_accuracy(uid, acc_type, args.trainval)\n",
        "\n",
        "  except Exception as e:\n",
        "    print(e)\n",
        "\n",
        "results = pd.DataFrame({\"accuracy\": accs,\n",
        "                    \"scores_logdet\": scores_logdet,\n",
        "                    \"scores_trace\":scores_trace})\n",
        "\n",
        "norm_logdet = scores_logdet  / np.linalg.norm(scores_logdet)\n",
        "norm_trace = scores_trace  / np.linalg.norm(scores_trace)\n",
        "\n",
        "results_norm = pd.DataFrame({\"accuracy\": accs,\n",
        "                        \"scores_logdet\": norm_logdet,\n",
        "                        \"scores_trace\":norm_trace})\n"
      ]
    },
    {
      "cell_type": "markdown",
      "metadata": {
        "id": "NjGSQ5wu_3Rw"
      },
      "source": [
        "### 🅾 Outputs"
      ]
    },
    {
      "cell_type": "code",
      "execution_count": null,
      "metadata": {
        "id": "KZWdWXpWPQvi"
      },
      "outputs": [],
      "source": [
        "plot_results(results, \"scores_logdet\")"
      ]
    },
    {
      "cell_type": "code",
      "execution_count": null,
      "metadata": {
        "id": "xdiqqPUkPTOu"
      },
      "outputs": [],
      "source": [
        "plot_results(results, \"scores_trace\")"
      ]
    },
    {
      "cell_type": "code",
      "execution_count": null,
      "metadata": {
        "id": "0z6COtyFPTfm"
      },
      "outputs": [],
      "source": [
        "plot_go_result(results_norm)"
      ]
    },
    {
      "cell_type": "code",
      "execution_count": null,
      "metadata": {
        "id": "Tu3FSm4hPVKN"
      },
      "outputs": [],
      "source": [
        "base_filename = f'{SAVE_LOC}/{args.dataset}_{args.nasspace}_batch{args.batch_size}_{args.num_iter}samples'\n",
        "\n",
        "results_filename = base_filename + '.csv'\n",
        "results.to_csv(results_filename, sep='\\t', encoding='utf-8')\n",
        "\n",
        "norm_results_filename = base_filename + '_norm.csv'\n",
        "results_norm.to_csv(norm_results_filename, sep='\\t', encoding='utf-8')"
      ]
    },
    {
      "cell_type": "markdown",
      "metadata": {
        "id": "DquHQ9mGGxJO"
      },
      "source": [
        "# ⭕Search"
      ]
    },
    {
      "cell_type": "code",
      "execution_count": null,
      "metadata": {
        "id": "4jd4o7scHE36"
      },
      "outputs": [],
      "source": [
        "NUM_RUNS = 10\n",
        "SAVE_LOC = '/content/drive/MyDrive/Mestrado/2022/may-experiments'\n",
        "n_samples = 100\n",
        "args.num_iter = NUM_RUNS\n",
        "args.num_runs = NUM_RUNS\n",
        "args.n_samples = n_samples\n",
        "args.save_loc = SAVE_LOC\n",
        "args.score = 'hooktrace'\n",
        "# args.score = 'hooklogdet'\n"
      ]
    },
    {
      "cell_type": "markdown",
      "metadata": {
        "id": "MquYZSYBqqT1"
      },
      "source": [
        "### NATSBench SSS"
      ]
    },
    {
      "cell_type": "code",
      "execution_count": null,
      "metadata": {
        "id": "fPmzKB2GquAC"
      },
      "outputs": [],
      "source": [
        "args.nasspace = 'nasbench201'\n",
        "args.api_loc = '/content/NATS-sss-v1_0-50262-simple/'"
      ]
    },
    {
      "cell_type": "markdown",
      "metadata": {
        "id": "Yvdc87MYKtWQ"
      },
      "source": [
        "### NATSBench TSS"
      ]
    },
    {
      "cell_type": "code",
      "execution_count": null,
      "metadata": {
        "colab": {
          "background_save": true
        },
        "id": "a5f1XmagK0sX"
      },
      "outputs": [],
      "source": [
        "args.nasspace = 'nasbench201'\n",
        "args.api_loc = '/content/NATS-tss-v1_0-3ffb9-simple'"
      ]
    },
    {
      "cell_type": "markdown",
      "metadata": {
        "id": "ZphpwNi8rBRR"
      },
      "source": [
        "### NASBench101"
      ]
    },
    {
      "cell_type": "code",
      "execution_count": null,
      "metadata": {
        "id": "FzjG0AcuqZk_"
      },
      "outputs": [],
      "source": [
        "args.nasspace = 'nasbench101'\n",
        "args.api_loc = '/content/nasbench_only108.tfrecord'"
      ]
    },
    {
      "cell_type": "markdown",
      "metadata": {
        "id": "Pe7IBzi3swZ0"
      },
      "source": [
        "### NDS"
      ]
    },
    {
      "cell_type": "code",
      "execution_count": null,
      "metadata": {
        "id": "mbbGRFYht6Ca"
      },
      "outputs": [],
      "source": [
        "'''\n",
        "Facebook NDS\n",
        "'''\n",
        "\n",
        "# args.nasspace = 'nds_pnas'\n",
        "# args.nasspace = 'nds_enas'\n",
        "# args.nasspace = 'nds_darts'\n",
        "# args.nasspace = 'nds_darts_fix-w-d'\n",
        "# args.nasspace = 'nds_nasnet'\n",
        "# args.nasspace = 'nds_amoeba'\n",
        "# args.nasspace = 'nds_resnet'\n",
        "# args.nasspace = 'nds_resnet-a'\n",
        "args.nasspace = 'nds_resnet-b'"
      ]
    },
    {
      "cell_type": "markdown",
      "metadata": {
        "id": "M2N-cZ9lHevy"
      },
      "source": [
        "## CIFAR10"
      ]
    },
    {
      "cell_type": "code",
      "execution_count": null,
      "metadata": {
        "colab": {
          "base_uri": "https://localhost:8080/",
          "height": 101,
          "referenced_widgets": [
            "727baa1d5eaf4f26bd6da29573a919ff",
            "c4212d5fdeaa4b83af112eeb332cee56",
            "619852eb954f45f5a99e8cab72bc12ef",
            "fd5a2838f48c4e11a9dbb8736973f95a",
            "a625fffedecd402fbb08cf2cc8d5ab2a",
            "c0395cb253d348989e2176715a773a8c",
            "c37c4a5b370c49079f788ca98d60c4fe",
            "2550d65fa3ca4bffac3cbbc13c50eaf6",
            "d1fd59d770d3412080373afb3edeb2d5",
            "282e562af0654e7eba0b39101308c0cb",
            "db306b5396d84be29b554031b79912f1"
          ]
        },
        "id": "YWvJPCmSXzVt",
        "outputId": "22a775be-8256-4418-87c1-0620ca7ebf5a"
      },
      "outputs": [
        {
          "name": "stdout",
          "output_type": "stream",
          "text": [
            "Downloading https://www.cs.toronto.edu/~kriz/cifar-10-python.tar.gz to ./datasets/cifar10/cifar-10-python.tar.gz\n"
          ]
        },
        {
          "data": {
            "application/vnd.jupyter.widget-view+json": {
              "model_id": "727baa1d5eaf4f26bd6da29573a919ff",
              "version_major": 2,
              "version_minor": 0
            },
            "text/plain": [
              "  0%|          | 0/170498071 [00:00<?, ?it/s]"
            ]
          },
          "metadata": {},
          "output_type": "display_data"
        },
        {
          "name": "stdout",
          "output_type": "stream",
          "text": [
            "Extracting ./datasets/cifar10/cifar-10-python.tar.gz to ./datasets/cifar10\n",
            "Files already downloaded and verified\n"
          ]
        }
      ],
      "source": [
        "DATASET_LOC = './datasets/' + CIFAR10_DATASET\n",
        "args.dataset = CIFAR10_DATASET\n",
        "args.data_loc = DATASET_LOC\n",
        "\n",
        "searchspace, train_loader, acc_type, val_acc_type = load_data(args)"
      ]
    },
    {
      "cell_type": "markdown",
      "metadata": {
        "id": "JQLXlOPwXm1o"
      },
      "source": [
        "## CIFAR100"
      ]
    },
    {
      "cell_type": "code",
      "execution_count": null,
      "metadata": {
        "colab": {
          "base_uri": "https://localhost:8080/",
          "height": 101,
          "referenced_widgets": [
            "6815f5505f6a4a42910e0a914d4ea3d4",
            "84662d0d46ec4ee9983345699236cc6f",
            "ecf34eff8e8b4244a13d2890070de5af",
            "bef853378597430fa9b0c059715ea3ff",
            "dc4c13d9a12f4ca6ba9495026112d302",
            "7476da18f8b6459eb45651152dbf991e",
            "a168d03defaa40799278ad24296fe04e",
            "0568a5a9975b484eaf543d63e1b8d0df",
            "cbf4ed1e99794154a946c1eaa5b3e9d2",
            "e883862a4dad447a97bcfd36c9abdbad",
            "c75f219737c045c2a55e335f97afe6ae"
          ]
        },
        "id": "khHgxpJrXp6D",
        "outputId": "0586f7da-6e2f-4fa6-e0bb-9e9fe01cd964"
      },
      "outputs": [
        {
          "output_type": "stream",
          "name": "stdout",
          "text": [
            "Downloading https://www.cs.toronto.edu/~kriz/cifar-100-python.tar.gz to ./datasets/cifar100/cifar-100-python.tar.gz\n"
          ]
        },
        {
          "output_type": "display_data",
          "data": {
            "text/plain": [
              "  0%|          | 0/169001437 [00:00<?, ?it/s]"
            ],
            "application/vnd.jupyter.widget-view+json": {
              "version_major": 2,
              "version_minor": 0,
              "model_id": "6815f5505f6a4a42910e0a914d4ea3d4"
            }
          },
          "metadata": {}
        },
        {
          "output_type": "stream",
          "name": "stdout",
          "text": [
            "Extracting ./datasets/cifar100/cifar-100-python.tar.gz to ./datasets/cifar100\n",
            "Files already downloaded and verified\n"
          ]
        }
      ],
      "source": [
        "DATASET_LOC = './datasets/' + CIFAR100_DATASET\n",
        "args.dataset = CIFAR100_DATASET\n",
        "args.data_loc = DATASET_LOC\n",
        "\n",
        "searchspace, train_loader, acc_type, val_acc_type = load_data(args)"
      ]
    },
    {
      "cell_type": "markdown",
      "metadata": {
        "id": "c7EGzv23Q52s"
      },
      "source": [
        "## IMAGENET"
      ]
    },
    {
      "cell_type": "code",
      "execution_count": null,
      "metadata": {
        "id": "u5XNnLTRQ8Wr"
      },
      "outputs": [],
      "source": [
        "args.dataset = IMAGENET_DATASET\n",
        "args.data_loc = './datasets/ImageNet16'\n",
        "\n",
        "searchspace, train_loader, acc_type, val_acc_type = load_data(args)"
      ]
    },
    {
      "cell_type": "markdown",
      "metadata": {
        "id": "gVDnqaMbQuve"
      },
      "source": [
        "## RUN\n"
      ]
    },
    {
      "cell_type": "code",
      "execution_count": null,
      "metadata": {
        "colab": {
          "base_uri": "https://localhost:8080/"
        },
        "id": "cX1lRVrLQz43",
        "outputId": "11e16b63-e13c-4fba-eb7d-44914a487e8f"
      },
      "outputs": [
        {
          "output_type": "stream",
          "name": "stderr",
          "text": [
            "\r  0%|          | 0/100 [00:00<?, ?it/s]/usr/local/lib/python3.7/dist-packages/torch/nn/modules/module.py:1033: UserWarning: Using a non-full backward hook when the forward contains multiple autograd Nodes is deprecated and will be removed in future versions. This hook will be missing some grad_input. Please use register_full_backward_hook to get the documented behavior.\n",
            "  warnings.warn(\"Using a non-full backward hook when the forward contains multiple autograd Nodes \"\n",
            "100%|██████████| 100/100 [1:18:55<00:00, 47.35s/it]"
          ]
        },
        {
          "output_type": "stream",
          "name": "stdout",
          "text": [
            "Final mean test accuracy: 43.09066662384033\n",
            "/content/drive/MyDrive/Mestrado/2022/may-experiments/randomsearch_hooktrace_ImageNet16-120_nasbench201_sss_batch128_10runs_100samples.csv\n"
          ]
        },
        {
          "output_type": "stream",
          "name": "stderr",
          "text": [
            "\n"
          ]
        }
      ],
      "source": [
        "times     = []\n",
        "chosen    = []\n",
        "acc       = []\n",
        "val_acc   = []\n",
        "topscores = []\n",
        "order_fn = np.nanargmax\n",
        "\n",
        "for N in tqdm(range(args.n_runs)):\n",
        "  start = time.time()\n",
        "  indices = np.random.randint(0, len(searchspace), args.n_samples)\n",
        "  scores = []\n",
        "\n",
        "  npstate = np.random.get_state()\n",
        "  ranstate = random.getstate()\n",
        "  torchstate = torch.random.get_rng_state()\n",
        "\n",
        "  for arch in indices:\n",
        "    try:\n",
        "      uid = searchspace[arch]\n",
        "      network = searchspace.get_network(uid)\n",
        "      network.to(device)\n",
        "      \n",
        "      if args.dropout:\n",
        "        add_dropout(network, args.sigma)\n",
        "      if args.init != '':\n",
        "        init_network(network, args.init)\n",
        "\n",
        "      network.K = np.zeros((args.batch_size, args.batch_size))\n",
        "      def counting_forward_hook(module, inp, out):\n",
        "        inp = inp[0].view(inp[0].size(0), -1)\n",
        "        x = (inp > 0).float() # binary indicator\n",
        "        K = x @ x.t() \n",
        "        K2 = (1.-x) @ (1.-x.t())\n",
        "        network.K = network.K + K.cpu().numpy() + K2.cpu().numpy()\n",
        "\n",
        "      def counting_backward_hook(module, inp, out):\n",
        "        module.visited_backwards = True\n",
        "\n",
        "      for name, module in network.named_modules():\n",
        "        if 'ReLU' in str(type(module)):\n",
        "          # module.register_forward_hook(counting_forward_hook)\n",
        "          module.register_forward_hook(optimized_forward_hook)\n",
        "          module.register_backward_hook(counting_backward_hook)\n",
        "\n",
        "               \n",
        "      random.setstate(ranstate)\n",
        "      np.random.set_state(npstate)\n",
        "      torch.set_rng_state(torchstate)\n",
        "\n",
        "      data_iterator = iter(train_loader)\n",
        "      x, target = next(data_iterator)\n",
        "      x2 = torch.clone(x)\n",
        "      x2 = x2.to(device)\n",
        "      x, target = x.to(device), target.to(device)\n",
        "\n",
        "      network(x2.to(device))\n",
        "\n",
        "      if 'trace' in args.score:\n",
        "        s = np.trace(network.K)\n",
        "      elif 'logdet' in args.score:\n",
        "        _, s = np.linalg.slogdet(network.K)\n",
        "\n",
        "    except Exception as e:\n",
        "      print(e)\n",
        "      s = 0.\n",
        "\n",
        "    scores.append(s)\n",
        "\n",
        "  best_arch = indices[order_fn(scores)]\n",
        "  uid = searchspace[best_arch]\n",
        "  topscores.append(scores[order_fn(scores)])\n",
        "  chosen.append(best_arch)\n",
        "  acc.append(searchspace.get_final_accuracy(uid, acc_type, False))\n",
        "  \n",
        "  if not args.dataset == 'cifar10' or args.trainval:\n",
        "      val_acc.append(searchspace.get_final_accuracy(uid, val_acc_type, args.trainval))\n",
        "\n",
        "  times.append(time.time() - start)\n",
        "  # runs.set_description(f\"acc: {np.mean(acc):.2f}% time:{np.mean(times):.2f}\")\n",
        "\n",
        "print(f\"Final mean test accuracy: {np.mean(acc)}\")\n",
        "\n",
        "state = pd.DataFrame({'accs': acc,\n",
        "         'chosen': chosen,\n",
        "         'times': times,\n",
        "         'topscores': topscores})\n",
        "      \n",
        "if \"NATS\" in args.api_loc:\n",
        "  tss_or_sss = \"sss\"\n",
        "  if \"tss\" in args.api_loc:\n",
        "    tss_or_sss = \"tss\"\n",
        "  filename = f'{SAVE_LOC}/randomsearch_{args.score}_{args.dataset}_{args.nasspace}_{tss_or_sss}_batch{args.batch_size}_{args.num_runs}runs_{args.n_samples}samples.csv'\n",
        "else:\n",
        "  filename = f'{SAVE_LOC}/randomsearch_{args.score}_{args.dataset}_{args.nasspace}_batch{args.batch_size}_{args.num_runs}runs_{args.n_samples}samples.csv'\n",
        "\n",
        "\n",
        "state.to_csv(filename, sep='\\t', encoding='utf-8')\n",
        "print(filename)"
      ]
    },
    {
      "cell_type": "code",
      "execution_count": null,
      "metadata": {
        "colab": {
          "base_uri": "https://localhost:8080/",
          "height": 424
        },
        "id": "MhgW-s1jQ4r5",
        "outputId": "0e9eebf3-c97e-4225-de2e-dd039a14bc10"
      },
      "outputs": [
        {
          "output_type": "execute_result",
          "data": {
            "text/plain": [
              "         accs  chosen      times   topscores\n",
              "0   44.700000   32733  35.090490  16876040.0\n",
              "1   45.233333   31205  36.215110  16340358.0\n",
              "2   43.166667   32710  36.739814  16713155.0\n",
              "3   44.366667   32591  37.115860  16400801.0\n",
              "4   44.666667   32754  37.657848  16792070.0\n",
              "..        ...     ...        ...         ...\n",
              "95  44.500000   31607  52.234259  16199474.0\n",
              "96  44.266667   32143  53.189508  16470393.0\n",
              "97  41.633333   29166  52.704547  15531858.0\n",
              "98  44.733333   32755  52.100321  16821935.0\n",
              "99  45.200000   31718  52.212913  16494718.0\n",
              "\n",
              "[100 rows x 4 columns]"
            ],
            "text/html": [
              "\n",
              "  <div id=\"df-1095f34e-f294-47e8-9cd8-824ce28c01b4\">\n",
              "    <div class=\"colab-df-container\">\n",
              "      <div>\n",
              "<style scoped>\n",
              "    .dataframe tbody tr th:only-of-type {\n",
              "        vertical-align: middle;\n",
              "    }\n",
              "\n",
              "    .dataframe tbody tr th {\n",
              "        vertical-align: top;\n",
              "    }\n",
              "\n",
              "    .dataframe thead th {\n",
              "        text-align: right;\n",
              "    }\n",
              "</style>\n",
              "<table border=\"1\" class=\"dataframe\">\n",
              "  <thead>\n",
              "    <tr style=\"text-align: right;\">\n",
              "      <th></th>\n",
              "      <th>accs</th>\n",
              "      <th>chosen</th>\n",
              "      <th>times</th>\n",
              "      <th>topscores</th>\n",
              "    </tr>\n",
              "  </thead>\n",
              "  <tbody>\n",
              "    <tr>\n",
              "      <th>0</th>\n",
              "      <td>44.700000</td>\n",
              "      <td>32733</td>\n",
              "      <td>35.090490</td>\n",
              "      <td>16876040.0</td>\n",
              "    </tr>\n",
              "    <tr>\n",
              "      <th>1</th>\n",
              "      <td>45.233333</td>\n",
              "      <td>31205</td>\n",
              "      <td>36.215110</td>\n",
              "      <td>16340358.0</td>\n",
              "    </tr>\n",
              "    <tr>\n",
              "      <th>2</th>\n",
              "      <td>43.166667</td>\n",
              "      <td>32710</td>\n",
              "      <td>36.739814</td>\n",
              "      <td>16713155.0</td>\n",
              "    </tr>\n",
              "    <tr>\n",
              "      <th>3</th>\n",
              "      <td>44.366667</td>\n",
              "      <td>32591</td>\n",
              "      <td>37.115860</td>\n",
              "      <td>16400801.0</td>\n",
              "    </tr>\n",
              "    <tr>\n",
              "      <th>4</th>\n",
              "      <td>44.666667</td>\n",
              "      <td>32754</td>\n",
              "      <td>37.657848</td>\n",
              "      <td>16792070.0</td>\n",
              "    </tr>\n",
              "    <tr>\n",
              "      <th>...</th>\n",
              "      <td>...</td>\n",
              "      <td>...</td>\n",
              "      <td>...</td>\n",
              "      <td>...</td>\n",
              "    </tr>\n",
              "    <tr>\n",
              "      <th>95</th>\n",
              "      <td>44.500000</td>\n",
              "      <td>31607</td>\n",
              "      <td>52.234259</td>\n",
              "      <td>16199474.0</td>\n",
              "    </tr>\n",
              "    <tr>\n",
              "      <th>96</th>\n",
              "      <td>44.266667</td>\n",
              "      <td>32143</td>\n",
              "      <td>53.189508</td>\n",
              "      <td>16470393.0</td>\n",
              "    </tr>\n",
              "    <tr>\n",
              "      <th>97</th>\n",
              "      <td>41.633333</td>\n",
              "      <td>29166</td>\n",
              "      <td>52.704547</td>\n",
              "      <td>15531858.0</td>\n",
              "    </tr>\n",
              "    <tr>\n",
              "      <th>98</th>\n",
              "      <td>44.733333</td>\n",
              "      <td>32755</td>\n",
              "      <td>52.100321</td>\n",
              "      <td>16821935.0</td>\n",
              "    </tr>\n",
              "    <tr>\n",
              "      <th>99</th>\n",
              "      <td>45.200000</td>\n",
              "      <td>31718</td>\n",
              "      <td>52.212913</td>\n",
              "      <td>16494718.0</td>\n",
              "    </tr>\n",
              "  </tbody>\n",
              "</table>\n",
              "<p>100 rows × 4 columns</p>\n",
              "</div>\n",
              "      <button class=\"colab-df-convert\" onclick=\"convertToInteractive('df-1095f34e-f294-47e8-9cd8-824ce28c01b4')\"\n",
              "              title=\"Convert this dataframe to an interactive table.\"\n",
              "              style=\"display:none;\">\n",
              "        \n",
              "  <svg xmlns=\"http://www.w3.org/2000/svg\" height=\"24px\"viewBox=\"0 0 24 24\"\n",
              "       width=\"24px\">\n",
              "    <path d=\"M0 0h24v24H0V0z\" fill=\"none\"/>\n",
              "    <path d=\"M18.56 5.44l.94 2.06.94-2.06 2.06-.94-2.06-.94-.94-2.06-.94 2.06-2.06.94zm-11 1L8.5 8.5l.94-2.06 2.06-.94-2.06-.94L8.5 2.5l-.94 2.06-2.06.94zm10 10l.94 2.06.94-2.06 2.06-.94-2.06-.94-.94-2.06-.94 2.06-2.06.94z\"/><path d=\"M17.41 7.96l-1.37-1.37c-.4-.4-.92-.59-1.43-.59-.52 0-1.04.2-1.43.59L10.3 9.45l-7.72 7.72c-.78.78-.78 2.05 0 2.83L4 21.41c.39.39.9.59 1.41.59.51 0 1.02-.2 1.41-.59l7.78-7.78 2.81-2.81c.8-.78.8-2.07 0-2.86zM5.41 20L4 18.59l7.72-7.72 1.47 1.35L5.41 20z\"/>\n",
              "  </svg>\n",
              "      </button>\n",
              "      \n",
              "  <style>\n",
              "    .colab-df-container {\n",
              "      display:flex;\n",
              "      flex-wrap:wrap;\n",
              "      gap: 12px;\n",
              "    }\n",
              "\n",
              "    .colab-df-convert {\n",
              "      background-color: #E8F0FE;\n",
              "      border: none;\n",
              "      border-radius: 50%;\n",
              "      cursor: pointer;\n",
              "      display: none;\n",
              "      fill: #1967D2;\n",
              "      height: 32px;\n",
              "      padding: 0 0 0 0;\n",
              "      width: 32px;\n",
              "    }\n",
              "\n",
              "    .colab-df-convert:hover {\n",
              "      background-color: #E2EBFA;\n",
              "      box-shadow: 0px 1px 2px rgba(60, 64, 67, 0.3), 0px 1px 3px 1px rgba(60, 64, 67, 0.15);\n",
              "      fill: #174EA6;\n",
              "    }\n",
              "\n",
              "    [theme=dark] .colab-df-convert {\n",
              "      background-color: #3B4455;\n",
              "      fill: #D2E3FC;\n",
              "    }\n",
              "\n",
              "    [theme=dark] .colab-df-convert:hover {\n",
              "      background-color: #434B5C;\n",
              "      box-shadow: 0px 1px 3px 1px rgba(0, 0, 0, 0.15);\n",
              "      filter: drop-shadow(0px 1px 2px rgba(0, 0, 0, 0.3));\n",
              "      fill: #FFFFFF;\n",
              "    }\n",
              "  </style>\n",
              "\n",
              "      <script>\n",
              "        const buttonEl =\n",
              "          document.querySelector('#df-1095f34e-f294-47e8-9cd8-824ce28c01b4 button.colab-df-convert');\n",
              "        buttonEl.style.display =\n",
              "          google.colab.kernel.accessAllowed ? 'block' : 'none';\n",
              "\n",
              "        async function convertToInteractive(key) {\n",
              "          const element = document.querySelector('#df-1095f34e-f294-47e8-9cd8-824ce28c01b4');\n",
              "          const dataTable =\n",
              "            await google.colab.kernel.invokeFunction('convertToInteractive',\n",
              "                                                     [key], {});\n",
              "          if (!dataTable) return;\n",
              "\n",
              "          const docLinkHtml = 'Like what you see? Visit the ' +\n",
              "            '<a target=\"_blank\" href=https://colab.research.google.com/notebooks/data_table.ipynb>data table notebook</a>'\n",
              "            + ' to learn more about interactive tables.';\n",
              "          element.innerHTML = '';\n",
              "          dataTable['output_type'] = 'display_data';\n",
              "          await google.colab.output.renderOutput(dataTable, element);\n",
              "          const docLink = document.createElement('div');\n",
              "          docLink.innerHTML = docLinkHtml;\n",
              "          element.appendChild(docLink);\n",
              "        }\n",
              "      </script>\n",
              "    </div>\n",
              "  </div>\n",
              "  "
            ]
          },
          "metadata": {},
          "execution_count": 21
        }
      ],
      "source": [
        "state"
      ]
    },
    {
      "cell_type": "code",
      "execution_count": null,
      "metadata": {
        "colab": {
          "base_uri": "https://localhost:8080/",
          "height": 424
        },
        "id": "k1GPA9ATqSns",
        "outputId": "7e0c177e-696d-415c-f802-c79698fd3268"
      },
      "outputs": [
        {
          "data": {
            "text/html": [
              "\n",
              "  <div id=\"df-d4e47110-0dc2-4bcc-a6e7-727fc0426cdc\">\n",
              "    <div class=\"colab-df-container\">\n",
              "      <div>\n",
              "<style scoped>\n",
              "    .dataframe tbody tr th:only-of-type {\n",
              "        vertical-align: middle;\n",
              "    }\n",
              "\n",
              "    .dataframe tbody tr th {\n",
              "        vertical-align: top;\n",
              "    }\n",
              "\n",
              "    .dataframe thead th {\n",
              "        text-align: right;\n",
              "    }\n",
              "</style>\n",
              "<table border=\"1\" class=\"dataframe\">\n",
              "  <thead>\n",
              "    <tr style=\"text-align: right;\">\n",
              "      <th></th>\n",
              "      <th>accs</th>\n",
              "      <th>chosen</th>\n",
              "      <th>times</th>\n",
              "      <th>topscores</th>\n",
              "    </tr>\n",
              "  </thead>\n",
              "  <tbody>\n",
              "    <tr>\n",
              "      <th>0</th>\n",
              "      <td>45.600000</td>\n",
              "      <td>13717</td>\n",
              "      <td>45.074531</td>\n",
              "      <td>28900179.0</td>\n",
              "    </tr>\n",
              "    <tr>\n",
              "      <th>1</th>\n",
              "      <td>43.411111</td>\n",
              "      <td>440</td>\n",
              "      <td>41.683051</td>\n",
              "      <td>28839824.0</td>\n",
              "    </tr>\n",
              "    <tr>\n",
              "      <th>2</th>\n",
              "      <td>30.311111</td>\n",
              "      <td>2841</td>\n",
              "      <td>44.245559</td>\n",
              "      <td>24239051.0</td>\n",
              "    </tr>\n",
              "    <tr>\n",
              "      <th>3</th>\n",
              "      <td>45.033333</td>\n",
              "      <td>7408</td>\n",
              "      <td>44.407574</td>\n",
              "      <td>28905908.0</td>\n",
              "    </tr>\n",
              "    <tr>\n",
              "      <th>4</th>\n",
              "      <td>45.466667</td>\n",
              "      <td>11887</td>\n",
              "      <td>46.514555</td>\n",
              "      <td>24260787.0</td>\n",
              "    </tr>\n",
              "    <tr>\n",
              "      <th>...</th>\n",
              "      <td>...</td>\n",
              "      <td>...</td>\n",
              "      <td>...</td>\n",
              "      <td>...</td>\n",
              "    </tr>\n",
              "    <tr>\n",
              "      <th>95</th>\n",
              "      <td>45.000000</td>\n",
              "      <td>10324</td>\n",
              "      <td>75.738690</td>\n",
              "      <td>24200101.0</td>\n",
              "    </tr>\n",
              "    <tr>\n",
              "      <th>96</th>\n",
              "      <td>44.311111</td>\n",
              "      <td>2632</td>\n",
              "      <td>76.262520</td>\n",
              "      <td>24310420.0</td>\n",
              "    </tr>\n",
              "    <tr>\n",
              "      <th>97</th>\n",
              "      <td>42.733333</td>\n",
              "      <td>13364</td>\n",
              "      <td>76.425853</td>\n",
              "      <td>24474911.0</td>\n",
              "    </tr>\n",
              "    <tr>\n",
              "      <th>98</th>\n",
              "      <td>42.116667</td>\n",
              "      <td>15537</td>\n",
              "      <td>77.050513</td>\n",
              "      <td>28896674.0</td>\n",
              "    </tr>\n",
              "    <tr>\n",
              "      <th>99</th>\n",
              "      <td>42.133333</td>\n",
              "      <td>4666</td>\n",
              "      <td>77.014991</td>\n",
              "      <td>24191830.0</td>\n",
              "    </tr>\n",
              "  </tbody>\n",
              "</table>\n",
              "<p>100 rows × 4 columns</p>\n",
              "</div>\n",
              "      <button class=\"colab-df-convert\" onclick=\"convertToInteractive('df-d4e47110-0dc2-4bcc-a6e7-727fc0426cdc')\"\n",
              "              title=\"Convert this dataframe to an interactive table.\"\n",
              "              style=\"display:none;\">\n",
              "        \n",
              "  <svg xmlns=\"http://www.w3.org/2000/svg\" height=\"24px\"viewBox=\"0 0 24 24\"\n",
              "       width=\"24px\">\n",
              "    <path d=\"M0 0h24v24H0V0z\" fill=\"none\"/>\n",
              "    <path d=\"M18.56 5.44l.94 2.06.94-2.06 2.06-.94-2.06-.94-.94-2.06-.94 2.06-2.06.94zm-11 1L8.5 8.5l.94-2.06 2.06-.94-2.06-.94L8.5 2.5l-.94 2.06-2.06.94zm10 10l.94 2.06.94-2.06 2.06-.94-2.06-.94-.94-2.06-.94 2.06-2.06.94z\"/><path d=\"M17.41 7.96l-1.37-1.37c-.4-.4-.92-.59-1.43-.59-.52 0-1.04.2-1.43.59L10.3 9.45l-7.72 7.72c-.78.78-.78 2.05 0 2.83L4 21.41c.39.39.9.59 1.41.59.51 0 1.02-.2 1.41-.59l7.78-7.78 2.81-2.81c.8-.78.8-2.07 0-2.86zM5.41 20L4 18.59l7.72-7.72 1.47 1.35L5.41 20z\"/>\n",
              "  </svg>\n",
              "      </button>\n",
              "      \n",
              "  <style>\n",
              "    .colab-df-container {\n",
              "      display:flex;\n",
              "      flex-wrap:wrap;\n",
              "      gap: 12px;\n",
              "    }\n",
              "\n",
              "    .colab-df-convert {\n",
              "      background-color: #E8F0FE;\n",
              "      border: none;\n",
              "      border-radius: 50%;\n",
              "      cursor: pointer;\n",
              "      display: none;\n",
              "      fill: #1967D2;\n",
              "      height: 32px;\n",
              "      padding: 0 0 0 0;\n",
              "      width: 32px;\n",
              "    }\n",
              "\n",
              "    .colab-df-convert:hover {\n",
              "      background-color: #E2EBFA;\n",
              "      box-shadow: 0px 1px 2px rgba(60, 64, 67, 0.3), 0px 1px 3px 1px rgba(60, 64, 67, 0.15);\n",
              "      fill: #174EA6;\n",
              "    }\n",
              "\n",
              "    [theme=dark] .colab-df-convert {\n",
              "      background-color: #3B4455;\n",
              "      fill: #D2E3FC;\n",
              "    }\n",
              "\n",
              "    [theme=dark] .colab-df-convert:hover {\n",
              "      background-color: #434B5C;\n",
              "      box-shadow: 0px 1px 3px 1px rgba(0, 0, 0, 0.15);\n",
              "      filter: drop-shadow(0px 1px 2px rgba(0, 0, 0, 0.3));\n",
              "      fill: #FFFFFF;\n",
              "    }\n",
              "  </style>\n",
              "\n",
              "      <script>\n",
              "        const buttonEl =\n",
              "          document.querySelector('#df-d4e47110-0dc2-4bcc-a6e7-727fc0426cdc button.colab-df-convert');\n",
              "        buttonEl.style.display =\n",
              "          google.colab.kernel.accessAllowed ? 'block' : 'none';\n",
              "\n",
              "        async function convertToInteractive(key) {\n",
              "          const element = document.querySelector('#df-d4e47110-0dc2-4bcc-a6e7-727fc0426cdc');\n",
              "          const dataTable =\n",
              "            await google.colab.kernel.invokeFunction('convertToInteractive',\n",
              "                                                     [key], {});\n",
              "          if (!dataTable) return;\n",
              "\n",
              "          const docLinkHtml = 'Like what you see? Visit the ' +\n",
              "            '<a target=\"_blank\" href=https://colab.research.google.com/notebooks/data_table.ipynb>data table notebook</a>'\n",
              "            + ' to learn more about interactive tables.';\n",
              "          element.innerHTML = '';\n",
              "          dataTable['output_type'] = 'display_data';\n",
              "          await google.colab.output.renderOutput(dataTable, element);\n",
              "          const docLink = document.createElement('div');\n",
              "          docLink.innerHTML = docLinkHtml;\n",
              "          element.appendChild(docLink);\n",
              "        }\n",
              "      </script>\n",
              "    </div>\n",
              "  </div>\n",
              "  "
            ],
            "text/plain": [
              "         accs  chosen      times   topscores\n",
              "0   45.600000   13717  45.074531  28900179.0\n",
              "1   43.411111     440  41.683051  28839824.0\n",
              "2   30.311111    2841  44.245559  24239051.0\n",
              "3   45.033333    7408  44.407574  28905908.0\n",
              "4   45.466667   11887  46.514555  24260787.0\n",
              "..        ...     ...        ...         ...\n",
              "95  45.000000   10324  75.738690  24200101.0\n",
              "96  44.311111    2632  76.262520  24310420.0\n",
              "97  42.733333   13364  76.425853  24474911.0\n",
              "98  42.116667   15537  77.050513  28896674.0\n",
              "99  42.133333    4666  77.014991  24191830.0\n",
              "\n",
              "[100 rows x 4 columns]"
            ]
          },
          "execution_count": 22,
          "metadata": {},
          "output_type": "execute_result"
        }
      ],
      "source": [
        "state"
      ]
    }
  ],
  "metadata": {
    "accelerator": "GPU",
    "colab": {
      "collapsed_sections": [
        "oAZC5rH7JPxh",
        "al_nfDRZ3Ih8",
        "qausdXco6yIk",
        "gT7MdiSe4Erf",
        "Ar5mIiUh6kXZ",
        "VDElEjY9piF8",
        "cjy-QJYypzRo",
        "HEIx2d213wSo",
        "I1IENd4RLA85",
        "N_zqg7MS_lJR",
        "QJMXaQVd_nug",
        "_fXFc6bgPGuy",
        "MquYZSYBqqT1",
        "ZphpwNi8rBRR",
        "JQLXlOPwXm1o",
        "c7EGzv23Q52s"
      ],
      "machine_shape": "hm",
      "name": "NAS-WOT New Experiments ",
      "provenance": [],
      "mount_file_id": "1UqnwfyiviehqjRfoFjP6BFL6l9CYhAzW",
      "authorship_tag": "ABX9TyPF0dJIoIYfyLqfF8m1VY+o",
      "include_colab_link": true
    },
    "kernelspec": {
      "display_name": "Python 3",
      "name": "python3"
    },
    "language_info": {
      "name": "python"
    },
    "widgets": {
      "application/vnd.jupyter.widget-state+json": {
        "2550d65fa3ca4bffac3cbbc13c50eaf6": {
          "model_module": "@jupyter-widgets/base",
          "model_module_version": "1.2.0",
          "model_name": "LayoutModel",
          "state": {
            "_model_module": "@jupyter-widgets/base",
            "_model_module_version": "1.2.0",
            "_model_name": "LayoutModel",
            "_view_count": null,
            "_view_module": "@jupyter-widgets/base",
            "_view_module_version": "1.2.0",
            "_view_name": "LayoutView",
            "align_content": null,
            "align_items": null,
            "align_self": null,
            "border": null,
            "bottom": null,
            "display": null,
            "flex": null,
            "flex_flow": null,
            "grid_area": null,
            "grid_auto_columns": null,
            "grid_auto_flow": null,
            "grid_auto_rows": null,
            "grid_column": null,
            "grid_gap": null,
            "grid_row": null,
            "grid_template_areas": null,
            "grid_template_columns": null,
            "grid_template_rows": null,
            "height": null,
            "justify_content": null,
            "justify_items": null,
            "left": null,
            "margin": null,
            "max_height": null,
            "max_width": null,
            "min_height": null,
            "min_width": null,
            "object_fit": null,
            "object_position": null,
            "order": null,
            "overflow": null,
            "overflow_x": null,
            "overflow_y": null,
            "padding": null,
            "right": null,
            "top": null,
            "visibility": null,
            "width": null
          }
        },
        "282e562af0654e7eba0b39101308c0cb": {
          "model_module": "@jupyter-widgets/base",
          "model_module_version": "1.2.0",
          "model_name": "LayoutModel",
          "state": {
            "_model_module": "@jupyter-widgets/base",
            "_model_module_version": "1.2.0",
            "_model_name": "LayoutModel",
            "_view_count": null,
            "_view_module": "@jupyter-widgets/base",
            "_view_module_version": "1.2.0",
            "_view_name": "LayoutView",
            "align_content": null,
            "align_items": null,
            "align_self": null,
            "border": null,
            "bottom": null,
            "display": null,
            "flex": null,
            "flex_flow": null,
            "grid_area": null,
            "grid_auto_columns": null,
            "grid_auto_flow": null,
            "grid_auto_rows": null,
            "grid_column": null,
            "grid_gap": null,
            "grid_row": null,
            "grid_template_areas": null,
            "grid_template_columns": null,
            "grid_template_rows": null,
            "height": null,
            "justify_content": null,
            "justify_items": null,
            "left": null,
            "margin": null,
            "max_height": null,
            "max_width": null,
            "min_height": null,
            "min_width": null,
            "object_fit": null,
            "object_position": null,
            "order": null,
            "overflow": null,
            "overflow_x": null,
            "overflow_y": null,
            "padding": null,
            "right": null,
            "top": null,
            "visibility": null,
            "width": null
          }
        },
        "619852eb954f45f5a99e8cab72bc12ef": {
          "model_module": "@jupyter-widgets/controls",
          "model_module_version": "1.5.0",
          "model_name": "FloatProgressModel",
          "state": {
            "_dom_classes": [],
            "_model_module": "@jupyter-widgets/controls",
            "_model_module_version": "1.5.0",
            "_model_name": "FloatProgressModel",
            "_view_count": null,
            "_view_module": "@jupyter-widgets/controls",
            "_view_module_version": "1.5.0",
            "_view_name": "ProgressView",
            "bar_style": "success",
            "description": "",
            "description_tooltip": null,
            "layout": "IPY_MODEL_2550d65fa3ca4bffac3cbbc13c50eaf6",
            "max": 170498071,
            "min": 0,
            "orientation": "horizontal",
            "style": "IPY_MODEL_d1fd59d770d3412080373afb3edeb2d5",
            "value": 170498071
          }
        },
        "727baa1d5eaf4f26bd6da29573a919ff": {
          "model_module": "@jupyter-widgets/controls",
          "model_module_version": "1.5.0",
          "model_name": "HBoxModel",
          "state": {
            "_dom_classes": [],
            "_model_module": "@jupyter-widgets/controls",
            "_model_module_version": "1.5.0",
            "_model_name": "HBoxModel",
            "_view_count": null,
            "_view_module": "@jupyter-widgets/controls",
            "_view_module_version": "1.5.0",
            "_view_name": "HBoxView",
            "box_style": "",
            "children": [
              "IPY_MODEL_c4212d5fdeaa4b83af112eeb332cee56",
              "IPY_MODEL_619852eb954f45f5a99e8cab72bc12ef",
              "IPY_MODEL_fd5a2838f48c4e11a9dbb8736973f95a"
            ],
            "layout": "IPY_MODEL_a625fffedecd402fbb08cf2cc8d5ab2a"
          }
        },
        "a625fffedecd402fbb08cf2cc8d5ab2a": {
          "model_module": "@jupyter-widgets/base",
          "model_module_version": "1.2.0",
          "model_name": "LayoutModel",
          "state": {
            "_model_module": "@jupyter-widgets/base",
            "_model_module_version": "1.2.0",
            "_model_name": "LayoutModel",
            "_view_count": null,
            "_view_module": "@jupyter-widgets/base",
            "_view_module_version": "1.2.0",
            "_view_name": "LayoutView",
            "align_content": null,
            "align_items": null,
            "align_self": null,
            "border": null,
            "bottom": null,
            "display": null,
            "flex": null,
            "flex_flow": null,
            "grid_area": null,
            "grid_auto_columns": null,
            "grid_auto_flow": null,
            "grid_auto_rows": null,
            "grid_column": null,
            "grid_gap": null,
            "grid_row": null,
            "grid_template_areas": null,
            "grid_template_columns": null,
            "grid_template_rows": null,
            "height": null,
            "justify_content": null,
            "justify_items": null,
            "left": null,
            "margin": null,
            "max_height": null,
            "max_width": null,
            "min_height": null,
            "min_width": null,
            "object_fit": null,
            "object_position": null,
            "order": null,
            "overflow": null,
            "overflow_x": null,
            "overflow_y": null,
            "padding": null,
            "right": null,
            "top": null,
            "visibility": null,
            "width": null
          }
        },
        "c0395cb253d348989e2176715a773a8c": {
          "model_module": "@jupyter-widgets/base",
          "model_module_version": "1.2.0",
          "model_name": "LayoutModel",
          "state": {
            "_model_module": "@jupyter-widgets/base",
            "_model_module_version": "1.2.0",
            "_model_name": "LayoutModel",
            "_view_count": null,
            "_view_module": "@jupyter-widgets/base",
            "_view_module_version": "1.2.0",
            "_view_name": "LayoutView",
            "align_content": null,
            "align_items": null,
            "align_self": null,
            "border": null,
            "bottom": null,
            "display": null,
            "flex": null,
            "flex_flow": null,
            "grid_area": null,
            "grid_auto_columns": null,
            "grid_auto_flow": null,
            "grid_auto_rows": null,
            "grid_column": null,
            "grid_gap": null,
            "grid_row": null,
            "grid_template_areas": null,
            "grid_template_columns": null,
            "grid_template_rows": null,
            "height": null,
            "justify_content": null,
            "justify_items": null,
            "left": null,
            "margin": null,
            "max_height": null,
            "max_width": null,
            "min_height": null,
            "min_width": null,
            "object_fit": null,
            "object_position": null,
            "order": null,
            "overflow": null,
            "overflow_x": null,
            "overflow_y": null,
            "padding": null,
            "right": null,
            "top": null,
            "visibility": null,
            "width": null
          }
        },
        "c37c4a5b370c49079f788ca98d60c4fe": {
          "model_module": "@jupyter-widgets/controls",
          "model_module_version": "1.5.0",
          "model_name": "DescriptionStyleModel",
          "state": {
            "_model_module": "@jupyter-widgets/controls",
            "_model_module_version": "1.5.0",
            "_model_name": "DescriptionStyleModel",
            "_view_count": null,
            "_view_module": "@jupyter-widgets/base",
            "_view_module_version": "1.2.0",
            "_view_name": "StyleView",
            "description_width": ""
          }
        },
        "c4212d5fdeaa4b83af112eeb332cee56": {
          "model_module": "@jupyter-widgets/controls",
          "model_module_version": "1.5.0",
          "model_name": "HTMLModel",
          "state": {
            "_dom_classes": [],
            "_model_module": "@jupyter-widgets/controls",
            "_model_module_version": "1.5.0",
            "_model_name": "HTMLModel",
            "_view_count": null,
            "_view_module": "@jupyter-widgets/controls",
            "_view_module_version": "1.5.0",
            "_view_name": "HTMLView",
            "description": "",
            "description_tooltip": null,
            "layout": "IPY_MODEL_c0395cb253d348989e2176715a773a8c",
            "placeholder": "​",
            "style": "IPY_MODEL_c37c4a5b370c49079f788ca98d60c4fe",
            "value": ""
          }
        },
        "d1fd59d770d3412080373afb3edeb2d5": {
          "model_module": "@jupyter-widgets/controls",
          "model_module_version": "1.5.0",
          "model_name": "ProgressStyleModel",
          "state": {
            "_model_module": "@jupyter-widgets/controls",
            "_model_module_version": "1.5.0",
            "_model_name": "ProgressStyleModel",
            "_view_count": null,
            "_view_module": "@jupyter-widgets/base",
            "_view_module_version": "1.2.0",
            "_view_name": "StyleView",
            "bar_color": null,
            "description_width": ""
          }
        },
        "db306b5396d84be29b554031b79912f1": {
          "model_module": "@jupyter-widgets/controls",
          "model_module_version": "1.5.0",
          "model_name": "DescriptionStyleModel",
          "state": {
            "_model_module": "@jupyter-widgets/controls",
            "_model_module_version": "1.5.0",
            "_model_name": "DescriptionStyleModel",
            "_view_count": null,
            "_view_module": "@jupyter-widgets/base",
            "_view_module_version": "1.2.0",
            "_view_name": "StyleView",
            "description_width": ""
          }
        },
        "fd5a2838f48c4e11a9dbb8736973f95a": {
          "model_module": "@jupyter-widgets/controls",
          "model_module_version": "1.5.0",
          "model_name": "HTMLModel",
          "state": {
            "_dom_classes": [],
            "_model_module": "@jupyter-widgets/controls",
            "_model_module_version": "1.5.0",
            "_model_name": "HTMLModel",
            "_view_count": null,
            "_view_module": "@jupyter-widgets/controls",
            "_view_module_version": "1.5.0",
            "_view_name": "HTMLView",
            "description": "",
            "description_tooltip": null,
            "layout": "IPY_MODEL_282e562af0654e7eba0b39101308c0cb",
            "placeholder": "​",
            "style": "IPY_MODEL_db306b5396d84be29b554031b79912f1",
            "value": " 170499072/? [00:02&lt;00:00, 89008655.13it/s]"
          }
        },
        "6815f5505f6a4a42910e0a914d4ea3d4": {
          "model_module": "@jupyter-widgets/controls",
          "model_name": "HBoxModel",
          "model_module_version": "1.5.0",
          "state": {
            "_dom_classes": [],
            "_model_module": "@jupyter-widgets/controls",
            "_model_module_version": "1.5.0",
            "_model_name": "HBoxModel",
            "_view_count": null,
            "_view_module": "@jupyter-widgets/controls",
            "_view_module_version": "1.5.0",
            "_view_name": "HBoxView",
            "box_style": "",
            "children": [
              "IPY_MODEL_84662d0d46ec4ee9983345699236cc6f",
              "IPY_MODEL_ecf34eff8e8b4244a13d2890070de5af",
              "IPY_MODEL_bef853378597430fa9b0c059715ea3ff"
            ],
            "layout": "IPY_MODEL_dc4c13d9a12f4ca6ba9495026112d302"
          }
        },
        "84662d0d46ec4ee9983345699236cc6f": {
          "model_module": "@jupyter-widgets/controls",
          "model_name": "HTMLModel",
          "model_module_version": "1.5.0",
          "state": {
            "_dom_classes": [],
            "_model_module": "@jupyter-widgets/controls",
            "_model_module_version": "1.5.0",
            "_model_name": "HTMLModel",
            "_view_count": null,
            "_view_module": "@jupyter-widgets/controls",
            "_view_module_version": "1.5.0",
            "_view_name": "HTMLView",
            "description": "",
            "description_tooltip": null,
            "layout": "IPY_MODEL_7476da18f8b6459eb45651152dbf991e",
            "placeholder": "​",
            "style": "IPY_MODEL_a168d03defaa40799278ad24296fe04e",
            "value": ""
          }
        },
        "ecf34eff8e8b4244a13d2890070de5af": {
          "model_module": "@jupyter-widgets/controls",
          "model_name": "FloatProgressModel",
          "model_module_version": "1.5.0",
          "state": {
            "_dom_classes": [],
            "_model_module": "@jupyter-widgets/controls",
            "_model_module_version": "1.5.0",
            "_model_name": "FloatProgressModel",
            "_view_count": null,
            "_view_module": "@jupyter-widgets/controls",
            "_view_module_version": "1.5.0",
            "_view_name": "ProgressView",
            "bar_style": "success",
            "description": "",
            "description_tooltip": null,
            "layout": "IPY_MODEL_0568a5a9975b484eaf543d63e1b8d0df",
            "max": 169001437,
            "min": 0,
            "orientation": "horizontal",
            "style": "IPY_MODEL_cbf4ed1e99794154a946c1eaa5b3e9d2",
            "value": 169001437
          }
        },
        "bef853378597430fa9b0c059715ea3ff": {
          "model_module": "@jupyter-widgets/controls",
          "model_name": "HTMLModel",
          "model_module_version": "1.5.0",
          "state": {
            "_dom_classes": [],
            "_model_module": "@jupyter-widgets/controls",
            "_model_module_version": "1.5.0",
            "_model_name": "HTMLModel",
            "_view_count": null,
            "_view_module": "@jupyter-widgets/controls",
            "_view_module_version": "1.5.0",
            "_view_name": "HTMLView",
            "description": "",
            "description_tooltip": null,
            "layout": "IPY_MODEL_e883862a4dad447a97bcfd36c9abdbad",
            "placeholder": "​",
            "style": "IPY_MODEL_c75f219737c045c2a55e335f97afe6ae",
            "value": " 169001984/? [00:11&lt;00:00, 16577302.80it/s]"
          }
        },
        "dc4c13d9a12f4ca6ba9495026112d302": {
          "model_module": "@jupyter-widgets/base",
          "model_name": "LayoutModel",
          "model_module_version": "1.2.0",
          "state": {
            "_model_module": "@jupyter-widgets/base",
            "_model_module_version": "1.2.0",
            "_model_name": "LayoutModel",
            "_view_count": null,
            "_view_module": "@jupyter-widgets/base",
            "_view_module_version": "1.2.0",
            "_view_name": "LayoutView",
            "align_content": null,
            "align_items": null,
            "align_self": null,
            "border": null,
            "bottom": null,
            "display": null,
            "flex": null,
            "flex_flow": null,
            "grid_area": null,
            "grid_auto_columns": null,
            "grid_auto_flow": null,
            "grid_auto_rows": null,
            "grid_column": null,
            "grid_gap": null,
            "grid_row": null,
            "grid_template_areas": null,
            "grid_template_columns": null,
            "grid_template_rows": null,
            "height": null,
            "justify_content": null,
            "justify_items": null,
            "left": null,
            "margin": null,
            "max_height": null,
            "max_width": null,
            "min_height": null,
            "min_width": null,
            "object_fit": null,
            "object_position": null,
            "order": null,
            "overflow": null,
            "overflow_x": null,
            "overflow_y": null,
            "padding": null,
            "right": null,
            "top": null,
            "visibility": null,
            "width": null
          }
        },
        "7476da18f8b6459eb45651152dbf991e": {
          "model_module": "@jupyter-widgets/base",
          "model_name": "LayoutModel",
          "model_module_version": "1.2.0",
          "state": {
            "_model_module": "@jupyter-widgets/base",
            "_model_module_version": "1.2.0",
            "_model_name": "LayoutModel",
            "_view_count": null,
            "_view_module": "@jupyter-widgets/base",
            "_view_module_version": "1.2.0",
            "_view_name": "LayoutView",
            "align_content": null,
            "align_items": null,
            "align_self": null,
            "border": null,
            "bottom": null,
            "display": null,
            "flex": null,
            "flex_flow": null,
            "grid_area": null,
            "grid_auto_columns": null,
            "grid_auto_flow": null,
            "grid_auto_rows": null,
            "grid_column": null,
            "grid_gap": null,
            "grid_row": null,
            "grid_template_areas": null,
            "grid_template_columns": null,
            "grid_template_rows": null,
            "height": null,
            "justify_content": null,
            "justify_items": null,
            "left": null,
            "margin": null,
            "max_height": null,
            "max_width": null,
            "min_height": null,
            "min_width": null,
            "object_fit": null,
            "object_position": null,
            "order": null,
            "overflow": null,
            "overflow_x": null,
            "overflow_y": null,
            "padding": null,
            "right": null,
            "top": null,
            "visibility": null,
            "width": null
          }
        },
        "a168d03defaa40799278ad24296fe04e": {
          "model_module": "@jupyter-widgets/controls",
          "model_name": "DescriptionStyleModel",
          "model_module_version": "1.5.0",
          "state": {
            "_model_module": "@jupyter-widgets/controls",
            "_model_module_version": "1.5.0",
            "_model_name": "DescriptionStyleModel",
            "_view_count": null,
            "_view_module": "@jupyter-widgets/base",
            "_view_module_version": "1.2.0",
            "_view_name": "StyleView",
            "description_width": ""
          }
        },
        "0568a5a9975b484eaf543d63e1b8d0df": {
          "model_module": "@jupyter-widgets/base",
          "model_name": "LayoutModel",
          "model_module_version": "1.2.0",
          "state": {
            "_model_module": "@jupyter-widgets/base",
            "_model_module_version": "1.2.0",
            "_model_name": "LayoutModel",
            "_view_count": null,
            "_view_module": "@jupyter-widgets/base",
            "_view_module_version": "1.2.0",
            "_view_name": "LayoutView",
            "align_content": null,
            "align_items": null,
            "align_self": null,
            "border": null,
            "bottom": null,
            "display": null,
            "flex": null,
            "flex_flow": null,
            "grid_area": null,
            "grid_auto_columns": null,
            "grid_auto_flow": null,
            "grid_auto_rows": null,
            "grid_column": null,
            "grid_gap": null,
            "grid_row": null,
            "grid_template_areas": null,
            "grid_template_columns": null,
            "grid_template_rows": null,
            "height": null,
            "justify_content": null,
            "justify_items": null,
            "left": null,
            "margin": null,
            "max_height": null,
            "max_width": null,
            "min_height": null,
            "min_width": null,
            "object_fit": null,
            "object_position": null,
            "order": null,
            "overflow": null,
            "overflow_x": null,
            "overflow_y": null,
            "padding": null,
            "right": null,
            "top": null,
            "visibility": null,
            "width": null
          }
        },
        "cbf4ed1e99794154a946c1eaa5b3e9d2": {
          "model_module": "@jupyter-widgets/controls",
          "model_name": "ProgressStyleModel",
          "model_module_version": "1.5.0",
          "state": {
            "_model_module": "@jupyter-widgets/controls",
            "_model_module_version": "1.5.0",
            "_model_name": "ProgressStyleModel",
            "_view_count": null,
            "_view_module": "@jupyter-widgets/base",
            "_view_module_version": "1.2.0",
            "_view_name": "StyleView",
            "bar_color": null,
            "description_width": ""
          }
        },
        "e883862a4dad447a97bcfd36c9abdbad": {
          "model_module": "@jupyter-widgets/base",
          "model_name": "LayoutModel",
          "model_module_version": "1.2.0",
          "state": {
            "_model_module": "@jupyter-widgets/base",
            "_model_module_version": "1.2.0",
            "_model_name": "LayoutModel",
            "_view_count": null,
            "_view_module": "@jupyter-widgets/base",
            "_view_module_version": "1.2.0",
            "_view_name": "LayoutView",
            "align_content": null,
            "align_items": null,
            "align_self": null,
            "border": null,
            "bottom": null,
            "display": null,
            "flex": null,
            "flex_flow": null,
            "grid_area": null,
            "grid_auto_columns": null,
            "grid_auto_flow": null,
            "grid_auto_rows": null,
            "grid_column": null,
            "grid_gap": null,
            "grid_row": null,
            "grid_template_areas": null,
            "grid_template_columns": null,
            "grid_template_rows": null,
            "height": null,
            "justify_content": null,
            "justify_items": null,
            "left": null,
            "margin": null,
            "max_height": null,
            "max_width": null,
            "min_height": null,
            "min_width": null,
            "object_fit": null,
            "object_position": null,
            "order": null,
            "overflow": null,
            "overflow_x": null,
            "overflow_y": null,
            "padding": null,
            "right": null,
            "top": null,
            "visibility": null,
            "width": null
          }
        },
        "c75f219737c045c2a55e335f97afe6ae": {
          "model_module": "@jupyter-widgets/controls",
          "model_name": "DescriptionStyleModel",
          "model_module_version": "1.5.0",
          "state": {
            "_model_module": "@jupyter-widgets/controls",
            "_model_module_version": "1.5.0",
            "_model_name": "DescriptionStyleModel",
            "_view_count": null,
            "_view_module": "@jupyter-widgets/base",
            "_view_module_version": "1.2.0",
            "_view_name": "StyleView",
            "description_width": ""
          }
        },
        "27f47036bf0a4316a11fd04084f239dd": {
          "model_module": "@jupyter-widgets/controls",
          "model_name": "HBoxModel",
          "model_module_version": "1.5.0",
          "state": {
            "_dom_classes": [],
            "_model_module": "@jupyter-widgets/controls",
            "_model_module_version": "1.5.0",
            "_model_name": "HBoxModel",
            "_view_count": null,
            "_view_module": "@jupyter-widgets/controls",
            "_view_module_version": "1.5.0",
            "_view_name": "HBoxView",
            "box_style": "",
            "children": [
              "IPY_MODEL_8bb3d5c8298f4a9989294539faabd290",
              "IPY_MODEL_e4f4a4d657f64f44af5f1132fa3dbbeb",
              "IPY_MODEL_7e566197cb2e4e50b511abba8172e225"
            ],
            "layout": "IPY_MODEL_11ea237221c6440d99cb79cd0156fdde"
          }
        },
        "8bb3d5c8298f4a9989294539faabd290": {
          "model_module": "@jupyter-widgets/controls",
          "model_name": "HTMLModel",
          "model_module_version": "1.5.0",
          "state": {
            "_dom_classes": [],
            "_model_module": "@jupyter-widgets/controls",
            "_model_module_version": "1.5.0",
            "_model_name": "HTMLModel",
            "_view_count": null,
            "_view_module": "@jupyter-widgets/controls",
            "_view_module_version": "1.5.0",
            "_view_name": "HTMLView",
            "description": "",
            "description_tooltip": null,
            "layout": "IPY_MODEL_39cb9259a6544311b26dd735e6d1122f",
            "placeholder": "​",
            "style": "IPY_MODEL_c69f7a75fa544159bfa6d1f4a9eda78a",
            "value": ""
          }
        },
        "e4f4a4d657f64f44af5f1132fa3dbbeb": {
          "model_module": "@jupyter-widgets/controls",
          "model_name": "FloatProgressModel",
          "model_module_version": "1.5.0",
          "state": {
            "_dom_classes": [],
            "_model_module": "@jupyter-widgets/controls",
            "_model_module_version": "1.5.0",
            "_model_name": "FloatProgressModel",
            "_view_count": null,
            "_view_module": "@jupyter-widgets/controls",
            "_view_module_version": "1.5.0",
            "_view_name": "ProgressView",
            "bar_style": "success",
            "description": "",
            "description_tooltip": null,
            "layout": "IPY_MODEL_18f9a2afc4434103801d16b2ba309cdb",
            "max": 170498071,
            "min": 0,
            "orientation": "horizontal",
            "style": "IPY_MODEL_b98b390619764b77b9314d4796ef1044",
            "value": 170498071
          }
        },
        "7e566197cb2e4e50b511abba8172e225": {
          "model_module": "@jupyter-widgets/controls",
          "model_name": "HTMLModel",
          "model_module_version": "1.5.0",
          "state": {
            "_dom_classes": [],
            "_model_module": "@jupyter-widgets/controls",
            "_model_module_version": "1.5.0",
            "_model_name": "HTMLModel",
            "_view_count": null,
            "_view_module": "@jupyter-widgets/controls",
            "_view_module_version": "1.5.0",
            "_view_name": "HTMLView",
            "description": "",
            "description_tooltip": null,
            "layout": "IPY_MODEL_2ce2d9d946bf496a80d8da7804f36b67",
            "placeholder": "​",
            "style": "IPY_MODEL_cb410984498c46dbab742592d035ad5f",
            "value": " 170499072/? [00:03&lt;00:00, 54633864.46it/s]"
          }
        },
        "11ea237221c6440d99cb79cd0156fdde": {
          "model_module": "@jupyter-widgets/base",
          "model_name": "LayoutModel",
          "model_module_version": "1.2.0",
          "state": {
            "_model_module": "@jupyter-widgets/base",
            "_model_module_version": "1.2.0",
            "_model_name": "LayoutModel",
            "_view_count": null,
            "_view_module": "@jupyter-widgets/base",
            "_view_module_version": "1.2.0",
            "_view_name": "LayoutView",
            "align_content": null,
            "align_items": null,
            "align_self": null,
            "border": null,
            "bottom": null,
            "display": null,
            "flex": null,
            "flex_flow": null,
            "grid_area": null,
            "grid_auto_columns": null,
            "grid_auto_flow": null,
            "grid_auto_rows": null,
            "grid_column": null,
            "grid_gap": null,
            "grid_row": null,
            "grid_template_areas": null,
            "grid_template_columns": null,
            "grid_template_rows": null,
            "height": null,
            "justify_content": null,
            "justify_items": null,
            "left": null,
            "margin": null,
            "max_height": null,
            "max_width": null,
            "min_height": null,
            "min_width": null,
            "object_fit": null,
            "object_position": null,
            "order": null,
            "overflow": null,
            "overflow_x": null,
            "overflow_y": null,
            "padding": null,
            "right": null,
            "top": null,
            "visibility": null,
            "width": null
          }
        },
        "39cb9259a6544311b26dd735e6d1122f": {
          "model_module": "@jupyter-widgets/base",
          "model_name": "LayoutModel",
          "model_module_version": "1.2.0",
          "state": {
            "_model_module": "@jupyter-widgets/base",
            "_model_module_version": "1.2.0",
            "_model_name": "LayoutModel",
            "_view_count": null,
            "_view_module": "@jupyter-widgets/base",
            "_view_module_version": "1.2.0",
            "_view_name": "LayoutView",
            "align_content": null,
            "align_items": null,
            "align_self": null,
            "border": null,
            "bottom": null,
            "display": null,
            "flex": null,
            "flex_flow": null,
            "grid_area": null,
            "grid_auto_columns": null,
            "grid_auto_flow": null,
            "grid_auto_rows": null,
            "grid_column": null,
            "grid_gap": null,
            "grid_row": null,
            "grid_template_areas": null,
            "grid_template_columns": null,
            "grid_template_rows": null,
            "height": null,
            "justify_content": null,
            "justify_items": null,
            "left": null,
            "margin": null,
            "max_height": null,
            "max_width": null,
            "min_height": null,
            "min_width": null,
            "object_fit": null,
            "object_position": null,
            "order": null,
            "overflow": null,
            "overflow_x": null,
            "overflow_y": null,
            "padding": null,
            "right": null,
            "top": null,
            "visibility": null,
            "width": null
          }
        },
        "c69f7a75fa544159bfa6d1f4a9eda78a": {
          "model_module": "@jupyter-widgets/controls",
          "model_name": "DescriptionStyleModel",
          "model_module_version": "1.5.0",
          "state": {
            "_model_module": "@jupyter-widgets/controls",
            "_model_module_version": "1.5.0",
            "_model_name": "DescriptionStyleModel",
            "_view_count": null,
            "_view_module": "@jupyter-widgets/base",
            "_view_module_version": "1.2.0",
            "_view_name": "StyleView",
            "description_width": ""
          }
        },
        "18f9a2afc4434103801d16b2ba309cdb": {
          "model_module": "@jupyter-widgets/base",
          "model_name": "LayoutModel",
          "model_module_version": "1.2.0",
          "state": {
            "_model_module": "@jupyter-widgets/base",
            "_model_module_version": "1.2.0",
            "_model_name": "LayoutModel",
            "_view_count": null,
            "_view_module": "@jupyter-widgets/base",
            "_view_module_version": "1.2.0",
            "_view_name": "LayoutView",
            "align_content": null,
            "align_items": null,
            "align_self": null,
            "border": null,
            "bottom": null,
            "display": null,
            "flex": null,
            "flex_flow": null,
            "grid_area": null,
            "grid_auto_columns": null,
            "grid_auto_flow": null,
            "grid_auto_rows": null,
            "grid_column": null,
            "grid_gap": null,
            "grid_row": null,
            "grid_template_areas": null,
            "grid_template_columns": null,
            "grid_template_rows": null,
            "height": null,
            "justify_content": null,
            "justify_items": null,
            "left": null,
            "margin": null,
            "max_height": null,
            "max_width": null,
            "min_height": null,
            "min_width": null,
            "object_fit": null,
            "object_position": null,
            "order": null,
            "overflow": null,
            "overflow_x": null,
            "overflow_y": null,
            "padding": null,
            "right": null,
            "top": null,
            "visibility": null,
            "width": null
          }
        },
        "b98b390619764b77b9314d4796ef1044": {
          "model_module": "@jupyter-widgets/controls",
          "model_name": "ProgressStyleModel",
          "model_module_version": "1.5.0",
          "state": {
            "_model_module": "@jupyter-widgets/controls",
            "_model_module_version": "1.5.0",
            "_model_name": "ProgressStyleModel",
            "_view_count": null,
            "_view_module": "@jupyter-widgets/base",
            "_view_module_version": "1.2.0",
            "_view_name": "StyleView",
            "bar_color": null,
            "description_width": ""
          }
        },
        "2ce2d9d946bf496a80d8da7804f36b67": {
          "model_module": "@jupyter-widgets/base",
          "model_name": "LayoutModel",
          "model_module_version": "1.2.0",
          "state": {
            "_model_module": "@jupyter-widgets/base",
            "_model_module_version": "1.2.0",
            "_model_name": "LayoutModel",
            "_view_count": null,
            "_view_module": "@jupyter-widgets/base",
            "_view_module_version": "1.2.0",
            "_view_name": "LayoutView",
            "align_content": null,
            "align_items": null,
            "align_self": null,
            "border": null,
            "bottom": null,
            "display": null,
            "flex": null,
            "flex_flow": null,
            "grid_area": null,
            "grid_auto_columns": null,
            "grid_auto_flow": null,
            "grid_auto_rows": null,
            "grid_column": null,
            "grid_gap": null,
            "grid_row": null,
            "grid_template_areas": null,
            "grid_template_columns": null,
            "grid_template_rows": null,
            "height": null,
            "justify_content": null,
            "justify_items": null,
            "left": null,
            "margin": null,
            "max_height": null,
            "max_width": null,
            "min_height": null,
            "min_width": null,
            "object_fit": null,
            "object_position": null,
            "order": null,
            "overflow": null,
            "overflow_x": null,
            "overflow_y": null,
            "padding": null,
            "right": null,
            "top": null,
            "visibility": null,
            "width": null
          }
        },
        "cb410984498c46dbab742592d035ad5f": {
          "model_module": "@jupyter-widgets/controls",
          "model_name": "DescriptionStyleModel",
          "model_module_version": "1.5.0",
          "state": {
            "_model_module": "@jupyter-widgets/controls",
            "_model_module_version": "1.5.0",
            "_model_name": "DescriptionStyleModel",
            "_view_count": null,
            "_view_module": "@jupyter-widgets/base",
            "_view_module_version": "1.2.0",
            "_view_name": "StyleView",
            "description_width": ""
          }
        },
        "88badfe367e8416dbbeae7dfef2b51ee": {
          "model_module": "@jupyter-widgets/controls",
          "model_name": "HBoxModel",
          "model_module_version": "1.5.0",
          "state": {
            "_dom_classes": [],
            "_model_module": "@jupyter-widgets/controls",
            "_model_module_version": "1.5.0",
            "_model_name": "HBoxModel",
            "_view_count": null,
            "_view_module": "@jupyter-widgets/controls",
            "_view_module_version": "1.5.0",
            "_view_name": "HBoxView",
            "box_style": "",
            "children": [
              "IPY_MODEL_c0e2a432d2474e149e8c570ff85830fa",
              "IPY_MODEL_0ad71172cfd6415480229284c44d0cdf",
              "IPY_MODEL_b78fc1d069394aec85087617b4f6a497"
            ],
            "layout": "IPY_MODEL_ba9971473d164370b484e94ed988e268"
          }
        },
        "c0e2a432d2474e149e8c570ff85830fa": {
          "model_module": "@jupyter-widgets/controls",
          "model_name": "HTMLModel",
          "model_module_version": "1.5.0",
          "state": {
            "_dom_classes": [],
            "_model_module": "@jupyter-widgets/controls",
            "_model_module_version": "1.5.0",
            "_model_name": "HTMLModel",
            "_view_count": null,
            "_view_module": "@jupyter-widgets/controls",
            "_view_module_version": "1.5.0",
            "_view_name": "HTMLView",
            "description": "",
            "description_tooltip": null,
            "layout": "IPY_MODEL_34de0aeb8c234f02bed0363f0ef390de",
            "placeholder": "​",
            "style": "IPY_MODEL_95845e39139f43bfa8c74eea1c55b3c8",
            "value": ""
          }
        },
        "0ad71172cfd6415480229284c44d0cdf": {
          "model_module": "@jupyter-widgets/controls",
          "model_name": "FloatProgressModel",
          "model_module_version": "1.5.0",
          "state": {
            "_dom_classes": [],
            "_model_module": "@jupyter-widgets/controls",
            "_model_module_version": "1.5.0",
            "_model_name": "FloatProgressModel",
            "_view_count": null,
            "_view_module": "@jupyter-widgets/controls",
            "_view_module_version": "1.5.0",
            "_view_name": "ProgressView",
            "bar_style": "success",
            "description": "",
            "description_tooltip": null,
            "layout": "IPY_MODEL_c560598d8f8d47e29667cb2948a1f6ff",
            "max": 169001437,
            "min": 0,
            "orientation": "horizontal",
            "style": "IPY_MODEL_bee94bb359434f9e83d6cecaa233621d",
            "value": 169001437
          }
        },
        "b78fc1d069394aec85087617b4f6a497": {
          "model_module": "@jupyter-widgets/controls",
          "model_name": "HTMLModel",
          "model_module_version": "1.5.0",
          "state": {
            "_dom_classes": [],
            "_model_module": "@jupyter-widgets/controls",
            "_model_module_version": "1.5.0",
            "_model_name": "HTMLModel",
            "_view_count": null,
            "_view_module": "@jupyter-widgets/controls",
            "_view_module_version": "1.5.0",
            "_view_name": "HTMLView",
            "description": "",
            "description_tooltip": null,
            "layout": "IPY_MODEL_e837a6c88776493586e47e0fe76afd2d",
            "placeholder": "​",
            "style": "IPY_MODEL_efe3fbe0802f43468f78e44194c9a4c7",
            "value": " 169001984/? [00:03&lt;00:00, 54970421.60it/s]"
          }
        },
        "ba9971473d164370b484e94ed988e268": {
          "model_module": "@jupyter-widgets/base",
          "model_name": "LayoutModel",
          "model_module_version": "1.2.0",
          "state": {
            "_model_module": "@jupyter-widgets/base",
            "_model_module_version": "1.2.0",
            "_model_name": "LayoutModel",
            "_view_count": null,
            "_view_module": "@jupyter-widgets/base",
            "_view_module_version": "1.2.0",
            "_view_name": "LayoutView",
            "align_content": null,
            "align_items": null,
            "align_self": null,
            "border": null,
            "bottom": null,
            "display": null,
            "flex": null,
            "flex_flow": null,
            "grid_area": null,
            "grid_auto_columns": null,
            "grid_auto_flow": null,
            "grid_auto_rows": null,
            "grid_column": null,
            "grid_gap": null,
            "grid_row": null,
            "grid_template_areas": null,
            "grid_template_columns": null,
            "grid_template_rows": null,
            "height": null,
            "justify_content": null,
            "justify_items": null,
            "left": null,
            "margin": null,
            "max_height": null,
            "max_width": null,
            "min_height": null,
            "min_width": null,
            "object_fit": null,
            "object_position": null,
            "order": null,
            "overflow": null,
            "overflow_x": null,
            "overflow_y": null,
            "padding": null,
            "right": null,
            "top": null,
            "visibility": null,
            "width": null
          }
        },
        "34de0aeb8c234f02bed0363f0ef390de": {
          "model_module": "@jupyter-widgets/base",
          "model_name": "LayoutModel",
          "model_module_version": "1.2.0",
          "state": {
            "_model_module": "@jupyter-widgets/base",
            "_model_module_version": "1.2.0",
            "_model_name": "LayoutModel",
            "_view_count": null,
            "_view_module": "@jupyter-widgets/base",
            "_view_module_version": "1.2.0",
            "_view_name": "LayoutView",
            "align_content": null,
            "align_items": null,
            "align_self": null,
            "border": null,
            "bottom": null,
            "display": null,
            "flex": null,
            "flex_flow": null,
            "grid_area": null,
            "grid_auto_columns": null,
            "grid_auto_flow": null,
            "grid_auto_rows": null,
            "grid_column": null,
            "grid_gap": null,
            "grid_row": null,
            "grid_template_areas": null,
            "grid_template_columns": null,
            "grid_template_rows": null,
            "height": null,
            "justify_content": null,
            "justify_items": null,
            "left": null,
            "margin": null,
            "max_height": null,
            "max_width": null,
            "min_height": null,
            "min_width": null,
            "object_fit": null,
            "object_position": null,
            "order": null,
            "overflow": null,
            "overflow_x": null,
            "overflow_y": null,
            "padding": null,
            "right": null,
            "top": null,
            "visibility": null,
            "width": null
          }
        },
        "95845e39139f43bfa8c74eea1c55b3c8": {
          "model_module": "@jupyter-widgets/controls",
          "model_name": "DescriptionStyleModel",
          "model_module_version": "1.5.0",
          "state": {
            "_model_module": "@jupyter-widgets/controls",
            "_model_module_version": "1.5.0",
            "_model_name": "DescriptionStyleModel",
            "_view_count": null,
            "_view_module": "@jupyter-widgets/base",
            "_view_module_version": "1.2.0",
            "_view_name": "StyleView",
            "description_width": ""
          }
        },
        "c560598d8f8d47e29667cb2948a1f6ff": {
          "model_module": "@jupyter-widgets/base",
          "model_name": "LayoutModel",
          "model_module_version": "1.2.0",
          "state": {
            "_model_module": "@jupyter-widgets/base",
            "_model_module_version": "1.2.0",
            "_model_name": "LayoutModel",
            "_view_count": null,
            "_view_module": "@jupyter-widgets/base",
            "_view_module_version": "1.2.0",
            "_view_name": "LayoutView",
            "align_content": null,
            "align_items": null,
            "align_self": null,
            "border": null,
            "bottom": null,
            "display": null,
            "flex": null,
            "flex_flow": null,
            "grid_area": null,
            "grid_auto_columns": null,
            "grid_auto_flow": null,
            "grid_auto_rows": null,
            "grid_column": null,
            "grid_gap": null,
            "grid_row": null,
            "grid_template_areas": null,
            "grid_template_columns": null,
            "grid_template_rows": null,
            "height": null,
            "justify_content": null,
            "justify_items": null,
            "left": null,
            "margin": null,
            "max_height": null,
            "max_width": null,
            "min_height": null,
            "min_width": null,
            "object_fit": null,
            "object_position": null,
            "order": null,
            "overflow": null,
            "overflow_x": null,
            "overflow_y": null,
            "padding": null,
            "right": null,
            "top": null,
            "visibility": null,
            "width": null
          }
        },
        "bee94bb359434f9e83d6cecaa233621d": {
          "model_module": "@jupyter-widgets/controls",
          "model_name": "ProgressStyleModel",
          "model_module_version": "1.5.0",
          "state": {
            "_model_module": "@jupyter-widgets/controls",
            "_model_module_version": "1.5.0",
            "_model_name": "ProgressStyleModel",
            "_view_count": null,
            "_view_module": "@jupyter-widgets/base",
            "_view_module_version": "1.2.0",
            "_view_name": "StyleView",
            "bar_color": null,
            "description_width": ""
          }
        },
        "e837a6c88776493586e47e0fe76afd2d": {
          "model_module": "@jupyter-widgets/base",
          "model_name": "LayoutModel",
          "model_module_version": "1.2.0",
          "state": {
            "_model_module": "@jupyter-widgets/base",
            "_model_module_version": "1.2.0",
            "_model_name": "LayoutModel",
            "_view_count": null,
            "_view_module": "@jupyter-widgets/base",
            "_view_module_version": "1.2.0",
            "_view_name": "LayoutView",
            "align_content": null,
            "align_items": null,
            "align_self": null,
            "border": null,
            "bottom": null,
            "display": null,
            "flex": null,
            "flex_flow": null,
            "grid_area": null,
            "grid_auto_columns": null,
            "grid_auto_flow": null,
            "grid_auto_rows": null,
            "grid_column": null,
            "grid_gap": null,
            "grid_row": null,
            "grid_template_areas": null,
            "grid_template_columns": null,
            "grid_template_rows": null,
            "height": null,
            "justify_content": null,
            "justify_items": null,
            "left": null,
            "margin": null,
            "max_height": null,
            "max_width": null,
            "min_height": null,
            "min_width": null,
            "object_fit": null,
            "object_position": null,
            "order": null,
            "overflow": null,
            "overflow_x": null,
            "overflow_y": null,
            "padding": null,
            "right": null,
            "top": null,
            "visibility": null,
            "width": null
          }
        },
        "efe3fbe0802f43468f78e44194c9a4c7": {
          "model_module": "@jupyter-widgets/controls",
          "model_name": "DescriptionStyleModel",
          "model_module_version": "1.5.0",
          "state": {
            "_model_module": "@jupyter-widgets/controls",
            "_model_module_version": "1.5.0",
            "_model_name": "DescriptionStyleModel",
            "_view_count": null,
            "_view_module": "@jupyter-widgets/base",
            "_view_module_version": "1.2.0",
            "_view_name": "StyleView",
            "description_width": ""
          }
        }
      }
    }
  },
  "nbformat": 4,
  "nbformat_minor": 0
}